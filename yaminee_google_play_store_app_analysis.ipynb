{
  "nbformat": 4,
  "nbformat_minor": 0,
  "metadata": {
    "colab": {
      "private_outputs": true,
      "provenance": [],
      "collapsed_sections": [
        "t6dVpIINYklI",
        "ijmpgYnKYklI",
        "-JiQyfWJYklI",
        "fge-S5ZAYoAp",
        "85gYPyotYoAp",
        "RoGjAbkUYoAp",
        "QHF8YVU7Yuh3",
        "GwzvFGzlYuh3",
        "qYpmQ266Yuh3",
        "bbFf2-_FphqN",
        "_ouA3fa0phqN",
        "Seke61FWphqN",
        "t27r6nlMphqO",
        "r2jJGEOYphqO",
        "b0JNsNcRphqO",
        "jj7wYXLtphqO",
        "eZrbJ2SmphqO",
        "rFu4xreNphqO",
        "gCFgpxoyphqP",
        "OVtJsKN_phqQ",
        "lssrdh5qphqQ",
        "1M8mcRywphqQ",
        "tgIPom80phqQ",
        "JMzcOPDDphqR",
        "8zGJKyg5p1ck",
        "PVzmfK_Ep1ck",
        "ylSl6qgtp1ck",
        "ZWILFDl5p1ck",
        "EXh0U9oCveiU",
        "22aHeOlLveiV",
        "gCX9965dhzqZ",
        "gIfDvo9L0UH2"
      ],
      "include_colab_link": true
    },
    "kernelspec": {
      "name": "python3",
      "display_name": "Python 3"
    },
    "language_info": {
      "name": "python"
    }
  },
  "cells": [
    {
      "cell_type": "markdown",
      "metadata": {
        "id": "view-in-github",
        "colab_type": "text"
      },
      "source": [
        "<a href=\"https://colab.research.google.com/github/yamineeswami/-EDA-project-play-store/blob/main/yaminee_google_play_store_app_analysis.ipynb\" target=\"_parent\"><img src=\"https://colab.research.google.com/assets/colab-badge.svg\" alt=\"Open In Colab\"/></a>"
      ]
    },
    {
      "cell_type": "markdown",
      "source": [
        "# **Project Name**    - Play Store App Review Analysis\n",
        "  \n",
        "  **Project Type**      - EDA"
      ],
      "metadata": {
        "id": "vncDsAP0Gaoa"
      }
    },
    {
      "cell_type": "markdown",
      "source": [
        "# *This is the work i have done in whole project* "
      ],
      "metadata": {
        "id": "beRrZCGUAJYm"
      }
    },
    {
      "cell_type": "markdown",
      "source": [
        "# **Project Summary -**"
      ],
      "metadata": {
        "id": "FJNUwmbgGyua"
      }
    },
    {
      "cell_type": "markdown",
      "source": [
        "\n",
        "In Google Play App Review Analysis Project, we are goining to analyse two data sets 1-Play Store Data.csv 2-User Reviews.csv. Where we will take a look on what is respose of people on every app \n",
        "Let's take a look at the data, which consists of two files:\n",
        "\n",
        "* **playstore data.csv:** contains all the details of the applications on Google Play. There are 13 features that describe a given app.\n",
        "* **user_reviews.csv:** contains 100 reviews for each app, most helpful first. The text in each review has been pre-processed and attributed with three new features: Sentiment (Positive, Negative or Neutral), Sentiment Polarity and Sentiment Subjectivity.\n",
        "  \n",
        "Google Play Store or formerly Android Market, is a digital distribution service developed and operated by Google. It is an official apps store that provides variety content such as apps, books, magazines, music, movies and television programs. It serves an as platform to allow users with 'Google certified' Android operating system devices to donwload applications developed and published on the platform either with a charge or free of cost. With the rapidly growth of Android devices and apps, it would be interesting to perform data analysis on the data to obtain valuable insights.\n",
        "\n",
        "The dataset that is going to be used is 'Google Play Store Apps' from Kaggle. It contains 10k of web scraped Play Store apps data for analysing the Android market. The tools that are going to be used for this EDA would be numpy, pandas, matplotlib and seaborn which I have learnt from the course."
      ],
      "metadata": {
        "id": "F6v_1wHtG2nS"
      }
    },
    {
      "cell_type": "markdown",
      "source": [
        "# **GitHub Link -**"
      ],
      "metadata": {
        "id": "w6K7xa23Elo4"
      }
    },
    {
      "cell_type": "markdown",
      "source": [
        "Provide your GitHub Link here.\n",
        "\n",
        "---\n",
        "\n"
      ],
      "metadata": {
        "id": "h1o69JH3Eqqn"
      }
    },
    {
      "cell_type": "markdown",
      "source": [
        "# **Problem Statement**\n"
      ],
      "metadata": {
        "id": "yQaldy8SH6Dl"
      }
    },
    {
      "cell_type": "markdown",
      "source": [
        "1 How much Apps are Paid and Free?\n",
        "\n",
        "2 Which categories have most Paid Vs Free?\n",
        "\n",
        "3 which Category of App related to 'Content Rating' is more?\n",
        "\n",
        "4 Which Category getting higest Rating?\n",
        "\n",
        "5 Which App Category is most Installed\n",
        "\n",
        "6 What is the distribution of App Rating ?\n",
        "\n",
        "7 Which Categories have The most Reviews?\n",
        "\n",
        "8 What is the Average_app size in different Categories ?\n",
        "\n",
        "9 Average rating free vs paid\n",
        "\n",
        "10 category generate most revenue(Price) ?\n",
        "\n",
        "11 Which Category have the most Sentiment\n",
        "\n",
        "12 What is Distribution of Apps Category by Sentiment[Negative,Positive,Neutral]\n",
        "\n",
        "13 Correlation Heatmap"
      ],
      "metadata": {
        "id": "DpeJGUA3kjGy"
      }
    },
    {
      "cell_type": "markdown",
      "source": [
        "#### **Define Your Business Objective?**"
      ],
      "metadata": {
        "id": "PH-0ReGfmX4f"
      }
    },
    {
      "cell_type": "markdown",
      "source": [
        "The objective of this project is help app developers and businesses understand what factors make their apps successful. By analyzing the play store data and user review dataset, we will identify relevent KPIs. This information will be used to provide insights and recommendations on how to imporove app engagament, retain users, increase revenue and enhance marketings strategies. Ultimately, my goal is to help buinesses create successful apps that satisfy their customers and drive growth."
      ],
      "metadata": {
        "id": "PhDvGCAqmjP1"
      }
    },
    {
      "cell_type": "markdown",
      "source": [
        "## ***1. Know Your Data***"
      ],
      "metadata": {
        "id": "HhfV-JJviCcP"
      }
    },
    {
      "cell_type": "markdown",
      "source": [
        "# ▶**Exploring Play store data:**"
      ],
      "metadata": {
        "id": "Y3lxredqlCYt"
      }
    },
    {
      "cell_type": "code",
      "source": [
        "# Import Libraries\n",
        "import pandas as pd\n",
        "import numpy as np\n",
        "import matplotlib.pyplot as plt\n",
        "import seaborn as sns"
      ],
      "metadata": {
        "id": "M8Vqi-pPk-HR"
      },
      "execution_count": null,
      "outputs": []
    },
    {
      "cell_type": "code",
      "source": [
        "from google.colab import drive\n",
        "drive.mount('/content/drive')"
      ],
      "metadata": {
        "id": "LRn3TUZT3wcH"
      },
      "execution_count": null,
      "outputs": []
    },
    {
      "cell_type": "code",
      "source": [
        "file_path1 =\"/content/Play Store Data.csv\"   \n",
        "play_data=pd.read_csv(file_path1)\n",
        "\n"
      ],
      "metadata": {
        "id": "PrlubAeP0XaS"
      },
      "execution_count": null,
      "outputs": []
    },
    {
      "cell_type": "markdown",
      "source": [
        "# **Lets Explore play store DataFrame**"
      ],
      "metadata": {
        "id": "3RnN4peoiCZX"
      }
    },
    {
      "cell_type": "code",
      "source": [
        "# Load Dataset\n",
        "print(\"Play Store Data.csv\",play_data)\n"
      ],
      "metadata": {
        "id": "4CkvbW_SlZ_R"
      },
      "execution_count": null,
      "outputs": []
    },
    {
      "cell_type": "markdown",
      "source": [
        "# **Dataset First View**"
      ],
      "metadata": {
        "id": "x71ZqKXriCWQ"
      }
    },
    {
      "cell_type": "code",
      "source": [
        "# Dataset First Look of Play Store Data.csv\n",
        "# Here we display First 10 rows\n",
        "play_data.head(10)"
      ],
      "metadata": {
        "id": "LWNFOSvLl09H"
      },
      "execution_count": null,
      "outputs": []
    },
    {
      "cell_type": "code",
      "source": [
        "# Here we display Last 10 Rows\n",
        "play_data.tail(10)"
      ],
      "metadata": {
        "id": "0uYA3mYZC0xm"
      },
      "execution_count": null,
      "outputs": []
    },
    {
      "cell_type": "markdown",
      "source": [
        "# **Dataset Rows & Columns count**"
      ],
      "metadata": {
        "id": "7hBIi_osiCS2"
      }
    },
    {
      "cell_type": "code",
      "source": [
        "# Dataset Rows & Columns count for Play Store Data.csv\n",
        "print(play_data.columns)\n",
        "rows=play_data.shape[0]\n",
        "columns=play_data.shape[1]\n",
        "print(f\"the no of rows is {rows} and no of columns is {columns}\")"
      ],
      "metadata": {
        "id": "Kllu7SJgmLij"
      },
      "execution_count": null,
      "outputs": []
    },
    {
      "cell_type": "markdown",
      "source": [
        "# **Dataset Information**"
      ],
      "metadata": {
        "id": "JlHwYmJAmNHm"
      }
    },
    {
      "cell_type": "code",
      "source": [
        "# Dataset Info for Play Store Data.csv\n",
        "play_data.info()"
      ],
      "metadata": {
        "id": "e9hRXRi6meOf"
      },
      "execution_count": null,
      "outputs": []
    },
    {
      "cell_type": "markdown",
      "source": [
        "# **Cleaning of the data**\n",
        "\n",
        "The three features that we will be working with most frequently henceforth are Installs, Size, and Price. A careful glance of the dataset reveals that some of these columns mandate data cleaning in order to be consumed by code we'll write later. Specifically, the presence of special characters (, $ +) and letters (M k) in the Installs, Size, and Price columns make their conversion to a numerical data type difficult. Let's clean by removing these and converting each column to a numeric type."
      ],
      "metadata": {
        "id": "y3EcCwblQDIK"
      }
    },
    {
      "cell_type": "markdown",
      "source": [
        "as Data cleaning means fixing bad data in your data set.\n",
        "\n",
        "Bad data could be:\n",
        "\n",
        "Empty cells\n",
        "\n",
        "Data in wrong format\n",
        "\n",
        "Wrong data\n",
        "\n",
        "Duplicates\n",
        "\n",
        "Removing the nun value\n",
        "\n",
        "There are some feature of data cleaning as follow:\n"
      ],
      "metadata": {
        "id": "CpGuipA9QZKW"
      }
    },
    {
      "cell_type": "markdown",
      "source": [
        "## Duplicate Values"
      ],
      "metadata": {
        "id": "35m5QtbWiB9F"
      }
    },
    {
      "cell_type": "code",
      "source": [
        "# Dataset Duplicate Value Count\n",
        "df2 = play_data.pivot_table(index = ['Category'], aggfunc ='size')\n",
        "print(df2)"
      ],
      "metadata": {
        "id": "1sLdpKYkmox0"
      },
      "execution_count": null,
      "outputs": []
    },
    {
      "cell_type": "markdown",
      "source": [
        "## Missing Values/Null Values"
      ],
      "metadata": {
        "id": "PoPl-ycgm1ru"
      }
    },
    {
      "cell_type": "code",
      "source": [
        "# Missing Values/Null Values Count\n",
        "play_data.isnull()"
      ],
      "metadata": {
        "id": "GgHWkxvamxVg"
      },
      "execution_count": null,
      "outputs": []
    },
    {
      "cell_type": "code",
      "source": [
        "# Visualizing the missing values\n",
        "import missingno as msno\n",
        "msno.heatmap(play_data)"
      ],
      "metadata": {
        "id": "3q5wnI3om9sJ"
      },
      "execution_count": null,
      "outputs": []
    },
    {
      "cell_type": "code",
      "source": [
        "play_data.shape"
      ],
      "metadata": {
        "id": "onlHaQlLDqJF"
      },
      "execution_count": null,
      "outputs": []
    },
    {
      "cell_type": "markdown",
      "source": [
        "## What did you know about your dataset?"
      ],
      "metadata": {
        "id": "H0kj-8xxnORC"
      }
    },
    {
      "cell_type": "markdown",
      "source": [
        "We are having to datasets 1-Play Store Data.csv where we are having information about which App, what type of Apps where downloaded,no the basis of customer satisfaction their rating and reviews, how many memory they required,Gneres,they are free or payable.\n",
        "\n",
        "2- User review.csv in this dataset we are having sentiments and there opinion."
      ],
      "metadata": {
        "id": "gfoNAAC-nUe_"
      }
    },
    {
      "cell_type": "markdown",
      "source": [
        "## ***2. Understanding Your Variables***"
      ],
      "metadata": {
        "id": "nA9Y7ga8ng1Z"
      }
    },
    {
      "cell_type": "code",
      "source": [
        "# Dataset Columns\n",
        "play_data.columns"
      ],
      "metadata": {
        "id": "j7xfkqrt5Ag5"
      },
      "execution_count": null,
      "outputs": []
    },
    {
      "cell_type": "code",
      "source": [
        "# Dataset Describe\n",
        "play_data.describe()"
      ],
      "metadata": {
        "id": "DnOaZdaE5Q5t"
      },
      "execution_count": null,
      "outputs": []
    },
    {
      "cell_type": "markdown",
      "source": [
        "**Let us first define what information the columns contain based on our inspection.**\n",
        "\n",
        "play_store dataframe has 10841 rows and 13 columns. The 13 columns are identified as below:\n",
        "1. **App** - It tells us about the name of the application with a short description (optional).\n",
        "2. **Category** - It gives the category to the app.\n",
        "3. **Rating** - It contains the average rating the respective app received from its users.\n",
        "4. **Reviews** - It tells us about the total number of users who have given a review for the application.\n",
        "5. **Size** - It tells us about the size being occupied the application on the mobile phone.\n",
        "6. **Installs** - It tells us about the total number of installs/downloads for an application.\n",
        "7. **Type** - IIt states whether an app is free to use or paid.\n",
        "8. **Price** - It gives the price payable to install the app. For free type apps, the price is zero.\n",
        "9. **Content Rating** - It states whether or not an app is suitable for all age groups or not.\n",
        "10. **Genres** - It tells us about the various other categories to which an application can belong.\n",
        "11. **Last Updated** - It tells us about the when the application was updated.\n",
        "12. **Current Ver** - It tells us about the current version of the application.\n",
        "13.**Android Ver** - It tells us about the android version which can support the application on its platform."
      ],
      "metadata": {
        "id": "w5TQeOlePSKv"
      }
    },
    {
      "cell_type": "markdown",
      "source": [
        "# Dataset 1 : Play Store Data.csv"
      ],
      "metadata": {
        "id": "gMER249ybbU6"
      }
    },
    {
      "cell_type": "code",
      "source": [
        "play_data[(play_data['Type'].isnull())]"
      ],
      "metadata": {
        "id": "wMNNPq3Dm4Ik"
      },
      "execution_count": null,
      "outputs": []
    },
    {
      "cell_type": "code",
      "source": [
        "# Amount of Free and Paid Apps\n",
        "play_data['Type'].value_counts()"
      ],
      "metadata": {
        "id": "OM3lAGQtnLe6"
      },
      "execution_count": null,
      "outputs": []
    },
    {
      "cell_type": "code",
      "source": [
        "play_data.loc[9148,'Type']='Free'"
      ],
      "metadata": {
        "id": "EBWZSonHoTT2"
      },
      "execution_count": null,
      "outputs": []
    },
    {
      "cell_type": "code",
      "source": [
        "play_data[(play_data['Type'].isnull())]"
      ],
      "metadata": {
        "id": "Ajjr0a9HpYnU"
      },
      "execution_count": null,
      "outputs": []
    },
    {
      "cell_type": "code",
      "source": [
        "# null values in Currrent Var\n",
        "play_data[(play_data['Current Ver'].isnull())]"
      ],
      "metadata": {
        "id": "PvbIsljLpqzi"
      },
      "execution_count": null,
      "outputs": []
    },
    {
      "cell_type": "code",
      "source": [
        "# Here we are droping all null values\n",
        "play_data.drop([15,1553,6322,6803,7333,7407,7730,10342], axis=0, inplace =False)"
      ],
      "metadata": {
        "id": "34h4HQ_nqcoJ"
      },
      "execution_count": null,
      "outputs": []
    },
    {
      "cell_type": "code",
      "source": [
        "play_data[(play_data['Current Ver'].isnull())]"
      ],
      "metadata": {
        "id": "L9lza4JnrIZ-"
      },
      "execution_count": null,
      "outputs": []
    },
    {
      "cell_type": "code",
      "source": [
        "# We are analysing null values in Android Ver\n",
        "play_data[(play_data['Android Ver'].isnull())]"
      ],
      "metadata": {
        "id": "2rr8XI4QraTG"
      },
      "execution_count": null,
      "outputs": []
    },
    {
      "cell_type": "code",
      "source": [
        "# Droping those column having null values\n",
        "play_data.drop([4453,4490], axis=0, inplace =False)"
      ],
      "metadata": {
        "id": "qBkkRzO7rk1O"
      },
      "execution_count": null,
      "outputs": []
    },
    {
      "cell_type": "code",
      "source": [
        "#  \n",
        "play_data[(play_data['Android Ver'].isnull())]"
      ],
      "metadata": {
        "id": "7HLURjU5r_vh"
      },
      "execution_count": null,
      "outputs": []
    },
    {
      "cell_type": "markdown",
      "source": [
        "# Dataset 2: User Reviews.csv"
      ],
      "metadata": {
        "id": "sfYZO31rbUtf"
      }
    },
    {
      "cell_type": "code",
      "source": [
        "file_path2 = \"/content/User Reviews.csv\"\n",
        "user_data=pd.read_csv(file_path2)"
      ],
      "metadata": {
        "id": "Ah35F9Utb8_5"
      },
      "execution_count": null,
      "outputs": []
    },
    {
      "cell_type": "markdown",
      "source": [
        "# Dataset Loading"
      ],
      "metadata": {
        "id": "XYryqHN4c-4S"
      }
    },
    {
      "cell_type": "code",
      "source": [
        "# Load Dataset\n",
        "print(\"User Reviews.csv\",user_data)"
      ],
      "metadata": {
        "id": "FZsuV3Whcbxg"
      },
      "execution_count": null,
      "outputs": []
    },
    {
      "cell_type": "markdown",
      "source": [
        "# Dataset First View"
      ],
      "metadata": {
        "id": "JxHZ0CCNdC7i"
      }
    },
    {
      "cell_type": "code",
      "source": [
        "# Dataset First Look of User Reviews.csv\n",
        "user_data.head(10)"
      ],
      "metadata": {
        "id": "p__iALtDcgte"
      },
      "execution_count": null,
      "outputs": []
    },
    {
      "cell_type": "markdown",
      "source": [
        "# Dataset Rows & Columns count"
      ],
      "metadata": {
        "id": "0TGDRB8XdL3A"
      }
    },
    {
      "cell_type": "code",
      "source": [
        "# Dataset Rows & Columns count for User Review.csv\n",
        "rows = len(user_data.axes[0])\n",
        "print(rows)\n",
        "column = len(user_data.axes[1])\n",
        "print(column)"
      ],
      "metadata": {
        "id": "cAkU0Wl6cm63"
      },
      "execution_count": null,
      "outputs": []
    },
    {
      "cell_type": "markdown",
      "source": [
        "# Dataset Information"
      ],
      "metadata": {
        "id": "mmcvn3fzdSvu"
      }
    },
    {
      "cell_type": "code",
      "source": [
        "# Dataset Info for User Review.csv\n",
        "user_data.info()"
      ],
      "metadata": {
        "id": "I6OqHXUmcxJA"
      },
      "execution_count": null,
      "outputs": []
    },
    {
      "cell_type": "code",
      "source": [
        "# check the variables of user data\n",
        "user_data.columns"
      ],
      "metadata": {
        "id": "oje1HIAKd8CO"
      },
      "execution_count": null,
      "outputs": []
    },
    {
      "cell_type": "markdown",
      "source": [
        "## ***4. Data Vizualization, Storytelling & Experimenting with charts : Understand the relationships between variables***"
      ],
      "metadata": {
        "id": "GF8Ens_Soomf"
      }
    },
    {
      "cell_type": "markdown",
      "source": [
        "##  Chart - 1\n",
        "\n",
        "# Ques:1 How much Apps are Paid and Free?"
      ],
      "metadata": {
        "id": "0wOQAZs5pc--"
      }
    },
    {
      "cell_type": "code",
      "source": [
        "# Chart - 1 visualization code\n",
        "free_paid = play_data['Type'].value_counts().reset_index()\n",
        "plt.figure(figsize=(12,10))\n",
        "colors = ['red','blue']\n",
        "plt.pie(x=free_paid['Type'], labels = free_paid['index'], colors=colors, autopct = '%.2f%%', textprops = {'fontsize':15})\n",
        "plt.title('free vs paid app')\n",
        "plt.legend()"
      ],
      "metadata": {
        "id": "7v_ESjsspbW7"
      },
      "execution_count": null,
      "outputs": []
    },
    {
      "cell_type": "markdown",
      "source": [
        "##### 1. Why did you pick the specific chart?"
      ],
      "metadata": {
        "id": "K5QZ13OEpz2H"
      }
    },
    {
      "cell_type": "markdown",
      "source": [
        "\n",
        "We choose a pie chart to visualize the distribution of paid and free app across all the apps categories because it allows for easy comparision of the number of reviews for each category"
      ],
      "metadata": {
        "id": "XESiWehPqBRc"
      }
    },
    {
      "cell_type": "markdown",
      "source": [
        "##### 2. What is/are the insight(s) found from the chart?"
      ],
      "metadata": {
        "id": "lQ7QKXXCp7Bj"
      }
    },
    {
      "cell_type": "markdown",
      "source": [
        "\n",
        "From the above bar chart we can see that 92% of apps in google play store are free and 8% are paid.\n"
      ],
      "metadata": {
        "id": "C_j1G7yiqdRP"
      }
    },
    {
      "cell_type": "markdown",
      "source": [
        "##### 3. Will the gained insights help creating a positive business impact? \n",
        "Are there any insights that lead to negative growth? Justify with specific reason."
      ],
      "metadata": {
        "id": "448CDAPjqfQr"
      }
    },
    {
      "cell_type": "markdown",
      "source": [
        "as most of the apps which are free is have more value then paid apps and Yes it will give a positve business impact to developers and marketers to improve their apps if it allow all the app free then paid "
      ],
      "metadata": {
        "id": "3cspy4FjqxJW"
      }
    },
    {
      "cell_type": "markdown",
      "source": [
        "#### Chart - 2\n",
        "\n",
        "# Ques:2 Which categories have most Paid Vs Free?"
      ],
      "metadata": {
        "id": "KSlN3yHqYklG"
      }
    },
    {
      "cell_type": "code",
      "source": [
        "# Chart - 2 visualization code\n",
        "data = play_data['Content Rating'].value_counts()\n",
        "labels = ['Everyone', 'Teen', 'Everyone 10+', 'Mature 17+','Adults only 18+', 'Unrated']\n",
        "\n",
        "#create pie chart\n",
        "plt.figure(figsize=(10,10))\n",
        "explode=(0,0.1,0.1,0.1,0.0,1.3)\n",
        "colors = ['C4', 'r', 'c', 'g', 'm', 'k']\n",
        "plt.pie(data, labels = labels, colors = colors, autopct='%.2f%%',explode=explode,textprops={'fontsize': 15})\n",
        "plt.title('Content Rating',size=20,loc='center')\n",
        "plt.legend()"
      ],
      "metadata": {
        "id": "8ZaarLPnMzyZ"
      },
      "execution_count": null,
      "outputs": []
    },
    {
      "cell_type": "markdown",
      "source": [
        "#### Chart - 3\n",
        "\n",
        "# Ques 3 which Category of App related to 'Content Rating' is more?"
      ],
      "metadata": {
        "id": "EM7whBJCYoAo"
      }
    },
    {
      "cell_type": "code",
      "source": [
        "# Chart - 3 visualization code\n",
        "category_count = play_data.groupby(['Category','Content Rating']).count()['App'].unstack()\n",
        "category_count.plot(kind ='bar',stacked=True)\n",
        "plt.title(\"Distribution of Category of App related to 'Content Rating' is more\")\n",
        "plt.xlabel(\"Category\")\n",
        "plt.ylabel(\"Content Rating\")\n",
        "plt.show()\n"
      ],
      "metadata": {
        "id": "t6GMdE67YoAp"
      },
      "execution_count": null,
      "outputs": []
    },
    {
      "cell_type": "markdown",
      "source": [
        "#### Chart - 4\n",
        "\n",
        "#  Which Category getting higest Rating?"
      ],
      "metadata": {
        "id": "4Of9eVA-YrdM"
      }
    },
    {
      "cell_type": "code",
      "source": [
        "# Chart - 4 visualization code\n",
        "play_data.groupby('Category')['Rating'].mean().sort_values(ascending= False)\n",
        "x = play_data['Category']\n",
        "y = play_data['Rating']\n",
        "plt.bar(x,y)\n",
        "plt.xticks(rotation = 45 , ha = 'right', fontsize=10)\n",
        "plt.show()"
      ],
      "metadata": {
        "id": "irlUoxc8YrdO"
      },
      "execution_count": null,
      "outputs": []
    },
    {
      "cell_type": "markdown",
      "source": [
        "##### 1. Why did you pick the specific chart?"
      ],
      "metadata": {
        "id": "iky9q4vBYrdO"
      }
    },
    {
      "cell_type": "markdown",
      "source": [
        "We choose Bar chart because it is very simple and effective way to compare the  size with dhighest rating on different category.\n"
      ],
      "metadata": {
        "id": "aJRCwT6DYrdO"
      }
    },
    {
      "cell_type": "markdown",
      "source": [
        "##### 2. What is/are the insight(s) found from the chart?"
      ],
      "metadata": {
        "id": "F6T5p64dYrdO"
      }
    },
    {
      "cell_type": "markdown",
      "source": [
        "Answer Here"
      ],
      "metadata": {
        "id": "Xx8WAJvtYrdO"
      }
    },
    {
      "cell_type": "markdown",
      "source": [
        "##### 3. Will the gained insights help creating a positive business impact? \n",
        "Are there any insights that lead to negative growth? Justify with specific reason."
      ],
      "metadata": {
        "id": "y-Ehk30pYrdP"
      }
    },
    {
      "cell_type": "markdown",
      "source": [
        "Answer Here"
      ],
      "metadata": {
        "id": "jLNxxz7MYrdP"
      }
    },
    {
      "cell_type": "markdown",
      "source": [
        "#### Chart - 5\n",
        "\n",
        "#Ques 5: Which App Category is most Installed"
      ],
      "metadata": {
        "id": "bamQiAODYuh1"
      }
    },
    {
      "cell_type": "code",
      "source": [
        "# Instalation related to App Categories\n",
        "play_data['Genres']"
      ],
      "metadata": {
        "id": "OU-lK1PrFWKD"
      },
      "execution_count": null,
      "outputs": []
    },
    {
      "cell_type": "code",
      "source": [
        "# Count the frequency of each genre\n",
        "genre_counts = play_data['Genres'].value_counts()\n",
        "\n",
        "# Create the bar graph\n",
        "plt.figure(figsize=(15,20))\n",
        "genre_counts.plot(kind='bar')\n",
        "plt.xticks(rotation=90, ha='right', fontsize=8)\n",
        "plt.xlabel('Genre')\n",
        "plt.ylabel('Frequency')\n",
        "plt.title('Genre Distribution')\n",
        "\n",
        "plt.show()"
      ],
      "metadata": {
        "id": "1qIkkITIm2cS"
      },
      "execution_count": null,
      "outputs": []
    },
    {
      "cell_type": "markdown",
      "source": [
        "##### 1. Why did you pick the specific chart?"
      ],
      "metadata": {
        "id": "QHF8YVU7Yuh3"
      }
    },
    {
      "cell_type": "markdown",
      "source": [
        "We choose BAR chart because it shows the perfect visualization on sentiments in \n",
        " play store data , and also easy to understand sentiments easily."
      ],
      "metadata": {
        "id": "dcxuIMRPYuh3"
      }
    },
    {
      "cell_type": "markdown",
      "source": [
        "##### 2. What is/are the insight(s) found from the chart?"
      ],
      "metadata": {
        "id": "GwzvFGzlYuh3"
      }
    },
    {
      "cell_type": "markdown",
      "source": [
        "\n",
        "This tells us the category of apps that has the maximum number of installs. The \"GAME\" , \"COMMUNICATIONS AND TOOLS categories has the highest number of installs compared to other categories of apps."
      ],
      "metadata": {
        "id": "uyqkiB8YYuh3"
      }
    },
    {
      "cell_type": "markdown",
      "source": [
        "##### 3. Will the gained insights help creating a positive business impact? \n",
        "Are there any insights that lead to negative growth? Justify with specific reason."
      ],
      "metadata": {
        "id": "qYpmQ266Yuh3"
      }
    },
    {
      "cell_type": "markdown",
      "source": [
        "# **Conclusion**"
      ],
      "metadata": {
        "id": "gCX9965dhzqZ"
      }
    },
    {
      "cell_type": "markdown",
      "source": [
        "\n",
        "In this project of analyzing play store applications, we have worked on several parameters which would help AlmaBetter to do well in launching their apps on the play store.\n",
        "\n",
        "In the initial phase, we focused more on the problem statements and data cleaning, in order to ensure that we give them the best results out of our analysis.\n",
        "1. Developing apps related to the least categories as they are not explored much. Like events and beauty.\n",
        "2. Most of the apps are Free, so focusing on free app is more important.\n",
        "3. Focusing more on content available for Everyone will increase the chances of getting the highest installs.\n",
        "4. They need to focus on updating their apps regularly, so that it will attract more users.\n",
        "5. They need to keep in mind that the sentiments of the user keep varying as they keep using the app, so they should focus more on users needs and features.\n",
        "\n",
        "* Percentage of free apps = ~92%\n",
        "* Percentage of apps with no age restrictions = ~82%\n",
        "* Most competitive category: Family\n",
        "* Category with the highest average app installs: Game\n",
        "* Percentage of apps that are top rated = ~80%\n",
        "* Family, Game and Tools are top three categories having 1906, 926 and 829 app count. \n",
        "* Tools, Entertainment, Education, Buisness and Medical are top Genres. \n",
        "* 8783 Apps are having size less than 50 MB. 7749 Apps are having rating more than 4.0 including both type of apps.\n",
        "* There are 20 free apps that have been installed over a billion times.\n",
        "* Minecraft is the only app in the paid category with over 10M installs. This app has also produced the most revenue only from the installation fee.\n",
        "* Category in which the paid apps have the highest average installation fee: Finance\n",
        "* The median size of all apps in the play store is 12 MB.\n",
        "* The apps whose size varies with device has the highest number average app installs.\n",
        "* The apps whose size is greater than 90 MB has the highest number of average user reviews, ie, they are more popular than the rest.\n",
        "* Helix Jump has the highest number of positive reviews and Angry Birds Classic has the highest number of negative reviews.\n",
        "* Overall sentiment count of merged dataset in which Positive sentiment count is 64%, Negative 22% and Neutral 13%."
      ],
      "metadata": {
        "id": "Fjb1IsQkh3yE"
      }
    },
    {
      "cell_type": "markdown",
      "source": [
        "**1.Rating**\n",
        "\n",
        "Most of the apps have rating in between 4 and 5.\n",
        "\n",
        "Most numbers of apps are rated at 4.3\n",
        "\n",
        "Categories of apps have more than 4 average rating.item\n",
        "\n",
        " **2.Size**\n",
        "\n",
        "Maximum number of applications present in the dataset are of small size.\n",
        "\n",
        "**3.Installs**\n",
        "\n",
        "Majority of the apps come into these three categories, Family, Game, and Tools.\n",
        "\n",
        "Maximum number of apps present in google play store come under Family, Game and tools but as per the installation and requirement in the market plot, scenario is not the same. Maximum installed apps comes under Game, Communication, Productivity and Social.\n",
        "\n",
        "Subway Surfers, Facebook, Messenger and Google Drive are the most installed apps.\n",
        "\n",
        "**4.Type(Free/Paid)**\n",
        "\n",
        "About 92% apps are free and 8% apps are of paid type.\n",
        "\n",
        "The category ‘Family’ has the highest number of paid apps.\n",
        "\n",
        "Free apps are installed more than paid apps.\n",
        "\n",
        "The app “I’m Rich — Trump Edition” from the category ‘Lifestyle’ is the most costly app priced at $400\n",
        "\n",
        "**5.Content Rating**\n",
        "\n",
        "Content having Everyone only has most installs, while unrated and Adults only 18+ have less installs.\n",
        "\n",
        "**6.Reviews**\n",
        "\n",
        "Number of installs is positively correlated with reviews with correlation 0.64.\n",
        "Sentiment Analysis\n",
        "\n",
        "**7.Sentiment** \n",
        "\n",
        "Most of the reviews are of Positive Sentiment, while Negative and Neutral have low number of reviews.\n",
        "\n",
        "**8.Sentiment Polarity / Sentiment Subjectivity**\n",
        "\n",
        "Collection of reviews shows a wide range of subjectivity and most of the reviews fall in [-0.50,0.75] polarity scale implying that the extremely negative or positive sentiments are significantly low.\n",
        "Most of the reviews show a mid-range of negative and positive sentiments.\n",
        "\n",
        "Sentiment subjectivity is not always proportional to sentiment polarity but in maximum number of case, shows a proportional behavior, when variance is too high or low.\n",
        "\n",
        "Sentiment Polarity is not highly correlated with Sentiment Subjectivity."
      ],
      "metadata": {
        "id": "vg-V_pyyPuEF"
      }
    },
    {
      "cell_type": "markdown",
      "source": [
        "# **new question**\n",
        " 1 Top catagory on google play store**"
      ],
      "metadata": {
        "id": "1aVfsOaXNQg0"
      }
    },
    {
      "cell_type": "code",
      "source": [
        "play_data.groupby(\"Category\")[\"App\"].count().sort_values(ascending= False)"
      ],
      "metadata": {
        "id": "mHalm8dxNlfH"
      },
      "execution_count": null,
      "outputs": []
    },
    {
      "cell_type": "code",
      "source": [
        "x = play_data['Category'].value_counts()\n",
        "y = play_data['Category'].value_counts().index\n",
        "x_list = []\n",
        "y_list = []\n",
        "for i in range(len(x)):\n",
        "    x_list.append(x[i])\n",
        "    y_list.append(y[i])"
      ],
      "metadata": {
        "id": "ubz4mM4cSWJT"
      },
      "execution_count": null,
      "outputs": []
    },
    {
      "cell_type": "code",
      "source": [
        "plt.figure(figsize=(20,10))\n",
        "plt.xlabel('Number of Apps', size=15)\n",
        "plt.ylabel('App Categories', size=15)\n",
        "graph = sns.barplot(y = x_list, x = y_list, palette= \"tab10\")\n",
        "graph.set_title(\"Top categories on Playstore\", fontsize = 25)\n",
        "graph.set_xticklabels(graph.get_xticklabels(), rotation= 45, horizontalalignment='right',);"
      ],
      "metadata": {
        "id": "6xqteFeMSZuh"
      },
      "execution_count": null,
      "outputs": []
    },
    {
      "cell_type": "markdown",
      "source": [
        "**Findings:**\n",
        "\n",
        "So there are all total 33 categories in the dataset From the above output we can come to a conclusion that in playstore most of the apps are under \"FAMILY AND GAME\" category and least are of EVENTS & BEAUTY Category."
      ],
      "metadata": {
        "id": "A1z26YMGSqTb"
      }
    },
    {
      "cell_type": "markdown",
      "source": [
        "percentage of all app belonging to each catagory on playstore data"
      ],
      "metadata": {
        "id": "UNV4lOOLS7Sy"
      }
    },
    {
      "cell_type": "code",
      "source": [
        "# Percentage of apps belonging to each category in the playstore\n",
        "plt.figure(figsize=(18,18))\n",
        "plt.pie(ps_df.Category.value_counts(), labels=ps_df.Category.value_counts().index, autopct='%1.2f%%')\n",
        "my_circle = plt.Circle( (0,0), 0.50, color='white')\n",
        "p=plt.gcf()\n",
        "p.gca().add_artist(my_circle)\n",
        "plt.title('% of apps share in each Category', fontsize = 25)\n",
        "plt.show()"
      ],
      "metadata": {
        "id": "h6DRL174TLFX"
      },
      "execution_count": null,
      "outputs": []
    },
    {
      "cell_type": "markdown",
      "source": [
        "\n",
        "### **2 average ratings of the apps **"
      ],
      "metadata": {
        "id": "9uVmuEZaWxht"
      }
    },
    {
      "cell_type": "code",
      "source": [
        "play_data['Rating'].value_counts().plot.bar(figsize=(20,8), color = 'm' )\n",
        "plt.xlabel('Average rating',fontsize = 15 )\n",
        "plt.ylabel('Number of apps', fontsize = 15)\n",
        "plt.title('Average rating of apps in Playstore', fontsize = 20)\n",
        "plt.legend()"
      ],
      "metadata": {
        "id": "pKSrvJQqYokr"
      },
      "execution_count": null,
      "outputs": []
    },
    {
      "cell_type": "markdown",
      "source": [
        "We can represent the ratings in a better way if we group the ratings between certain intervals. Here, we can group the rating as follows:\n",
        "\n",
        "* 4-5: Top rated\n",
        "* 3-4: Above average\n",
        "* 2-3: Average\n",
        "* 1-2: Below average"
      ],
      "metadata": {
        "id": "nfpnsEqQY1Zl"
      }
    }
  ]
}