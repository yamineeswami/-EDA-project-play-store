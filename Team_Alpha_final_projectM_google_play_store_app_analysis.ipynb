{
  "nbformat": 4,
  "nbformat_minor": 0,
  "metadata": {
    "colab": {
      "private_outputs": true,
      "provenance": [],
      "collapsed_sections": [
        "qYpmQ266Yuh3",
        "gIfDvo9L0UH2"
      ],
      "include_colab_link": true
    },
    "kernelspec": {
      "name": "python3",
      "display_name": "Python 3"
    },
    "language_info": {
      "name": "python"
    }
  },
  "cells": [
    {
      "cell_type": "markdown",
      "metadata": {
        "id": "view-in-github",
        "colab_type": "text"
      },
      "source": [
        "<a href=\"https://colab.research.google.com/github/yamineeswami/-EDA-project-play-store/blob/main/Team_Alpha_final_projectM_google_play_store_app_analysis.ipynb\" target=\"_parent\"><img src=\"https://colab.research.google.com/assets/colab-badge.svg\" alt=\"Open In Colab\"/></a>"
      ]
    },
    {
      "cell_type": "markdown",
      "source": [
        "# **Project Name**    - Play Store App Review Analysis\n",
        "  \n",
        "  **Project Type**      - EDA"
      ],
      "metadata": {
        "id": "vncDsAP0Gaoa"
      }
    },
    {
      "cell_type": "markdown",
      "source": [
        "\n",
        "# **Contribution    - *Team***\n",
        "# **Team Member 1   - Minakshi Lute** \n",
        "# **Team Member 2   - Nitikesh Wagh**\n",
        "# **Team Member 3   - Yaminee Swami**\n",
        "# **Team Member 4   - Rohini Gawande**\n",
        "# **Team Member 5   - Kishor Nikam**"
      ],
      "metadata": {
        "id": "beRrZCGUAJYm"
      }
    },
    {
      "cell_type": "markdown",
      "source": [
        "# **Project Summary -**"
      ],
      "metadata": {
        "id": "FJNUwmbgGyua"
      }
    },
    {
      "cell_type": "markdown",
      "source": [
        "In Google Play App Review Analysis Project, we are goining to analyse two data sets 1-Play Store Data.csv 2-User Reviews.csv. Where we will take a look on what is respose of people on every app Let's take a look at the data, which consists of two files:\n",
        "\n",
        "playstore data.csv: contains all the details of the applications on Google Play. There are 13 features that describe a given app.\n",
        "user_reviews.csv: contains 100 reviews for each app, most helpful first. The text in each review has been pre-processed and attributed with three new features: Sentiment (Positive, Negative or Neutral), Sentiment Polarity and Sentiment Subjectivity.\n",
        "Google Play Store or formerly Android Market, is a digital distribution service developed and operated by Google. It is an official apps store that provides variety content such as apps, books, magazines, music, movies and television programs. It serves an as platform to allow users with 'Google certified' Android operating system devices to donwload applications developed and published on the platform either with a charge or free of cost. With the rapidly growth of Android devices and apps, it would be interesting to perform data analysis on the data to obtain valuable insights.\n",
        "\n",
        "The dataset that is going to be used is 'Google Play Store Apps' from Kaggle. It contains 10k of web scraped Play Store apps data for analysing the Android market. The tools that are going to be used for this EDA would be numpy, pandas, matplotlib and seaborn which I have learnt from the course."
      ],
      "metadata": {
        "id": "F6v_1wHtG2nS"
      }
    },
    {
      "cell_type": "markdown",
      "source": [
        "# **GitHub Link -**"
      ],
      "metadata": {
        "id": "w6K7xa23Elo4"
      }
    },
    {
      "cell_type": "markdown",
      "source": [],
      "metadata": {
        "id": "y-zEQyCo3RNc"
      }
    },
    {
      "cell_type": "markdown",
      "source": [
        "# **Problem Statement**\n"
      ],
      "metadata": {
        "id": "yQaldy8SH6Dl"
      }
    },
    {
      "cell_type": "markdown",
      "source": [
        "The Play store apps data has enormous potential to drive app-making businesses to sucess. Actionable insights can be drawn for developers to work on and capture the android market. Each app(row) has values for category, rating,size and more. Another Dataset contains customer reviews of the android apps. Explore and analysis the data to discover key factors responsible for app engagement and sucess \n",
        "\n",
        "1 How much Apps are Paid and Free?\n",
        "\n",
        "2 Which categories have most Paid Vs Free?\n",
        "\n",
        "3 which Category of App related to 'Content Rating' is more?\n",
        "\n",
        "4 Which Category getting higest Rating?\n",
        "\n",
        "5 Which App Category is most Installed\n",
        "\n",
        "6 What is the distribution of App Rating ?\n",
        "\n",
        "7 Which Categories have The most Reviews?\n",
        "\n",
        "8 What is the Average_app size in different Categories ?\n",
        "\n",
        "9 Average rating free vs paid\n",
        "\n",
        "10 What is Percentage of apps belonging to each category in the playstore ?\n",
        "\n",
        "11 Which Category have the most Sentiment\n",
        "\n",
        "12 What is Distribution of Apps Category by Sentiment[Negative,Positive,Neutral]\n",
        "\n",
        "13 Correlation Heatmap\n",
        "\n",
        "14 pair chart **"
      ],
      "metadata": {
        "id": "DpeJGUA3kjGy"
      }
    },
    {
      "cell_type": "markdown",
      "source": [
        "#### **Define Your Business Objective?**"
      ],
      "metadata": {
        "id": "PH-0ReGfmX4f"
      }
    },
    {
      "cell_type": "markdown",
      "source": [
        "The objective of this project is help app developers and marketer's to  understand what factors make their apps successful. By analyzing the play store data and user review dataset, we will identify relevent KPIs. This information will be used to provide insights and recommendations on how to imporove app engagament, retain users, increase revenue and enhance marketings strategies. Ultimately, my goal is to help marketer's create successful apps that satisfy their customers and drive growth."
      ],
      "metadata": {
        "id": "PhDvGCAqmjP1"
      }
    },
    {
      "cell_type": "markdown",
      "source": [
        "# ***Let's Begin !***"
      ],
      "metadata": {
        "id": "O_i_v8NEhb9l"
      }
    },
    {
      "cell_type": "markdown",
      "source": [
        "## ***1. Know Your Data***"
      ],
      "metadata": {
        "id": "HhfV-JJviCcP"
      }
    },
    {
      "cell_type": "markdown",
      "source": [
        "### Import Libraries"
      ],
      "metadata": {
        "id": "Y3lxredqlCYt"
      }
    },
    {
      "cell_type": "code",
      "source": [
        "# Import Libraries\n",
        "import pandas as pd\n",
        "import numpy as np\n",
        "import matplotlib.pyplot as plt\n",
        "import seaborn as sns"
      ],
      "metadata": {
        "id": "M8Vqi-pPk-HR"
      },
      "execution_count": null,
      "outputs": []
    },
    {
      "cell_type": "code",
      "source": [
        "from google.colab import drive\n",
        "drive.mount('/content/drive')"
      ],
      "metadata": {
        "id": "LRn3TUZT3wcH"
      },
      "execution_count": null,
      "outputs": []
    },
    {
      "cell_type": "markdown",
      "source": [
        "# Step 1 : Data Cleaning on play Store Dataset"
      ],
      "metadata": {
        "id": "RlgTfcOLav-Q"
      }
    },
    {
      "cell_type": "markdown",
      "source": [
        "\n",
        "\n",
        "#Dataset Loading"
      ],
      "metadata": {
        "id": "3RnN4peoiCZX"
      }
    },
    {
      "cell_type": "code",
      "source": [
        "# Load Dataset\n",
        "file_path1 =\"/content/Play Store Data.csv\"   \n",
        "play_data=pd.read_csv(file_path1)\n",
        "print(\"Play Store Data.csv\",play_data)\n"
      ],
      "metadata": {
        "id": "4CkvbW_SlZ_R"
      },
      "execution_count": null,
      "outputs": []
    },
    {
      "cell_type": "markdown",
      "source": [
        "### Dataset First View"
      ],
      "metadata": {
        "id": "x71ZqKXriCWQ"
      }
    },
    {
      "cell_type": "code",
      "source": [
        "# Dataset First Look of Play Store Data.csv\n",
        "# Here we display First 10 rows\n",
        "play_data.head(10)"
      ],
      "metadata": {
        "id": "LWNFOSvLl09H"
      },
      "execution_count": null,
      "outputs": []
    },
    {
      "cell_type": "code",
      "source": [
        "# Here we display Last 10 Rows\n",
        "play_data.tail(10)"
      ],
      "metadata": {
        "id": "0uYA3mYZC0xm"
      },
      "execution_count": null,
      "outputs": []
    },
    {
      "cell_type": "markdown",
      "source": [
        "### Dataset Rows & Columns count"
      ],
      "metadata": {
        "id": "7hBIi_osiCS2"
      }
    },
    {
      "cell_type": "code",
      "source": [
        "# Dataset Rows & Columns count for Play Store Data.csv\n",
        "rows = len(play_data.axes[0])\n",
        "print(rows)\n",
        "column = len(play_data.axes[1])\n",
        "print(column)"
      ],
      "metadata": {
        "id": "Kllu7SJgmLij"
      },
      "execution_count": null,
      "outputs": []
    },
    {
      "cell_type": "markdown",
      "source": [
        "here we have 10841 rows and 13 columns"
      ],
      "metadata": {
        "id": "1NW5EV12MjEj"
      }
    },
    {
      "cell_type": "markdown",
      "source": [
        "### Dataset Information"
      ],
      "metadata": {
        "id": "JlHwYmJAmNHm"
      }
    },
    {
      "cell_type": "code",
      "source": [
        "# Dataset Info for Play Store Data.csv\n",
        "play_data.info()"
      ],
      "metadata": {
        "id": "e9hRXRi6meOf"
      },
      "execution_count": null,
      "outputs": []
    },
    {
      "cell_type": "markdown",
      "source": [
        "#Cleaning of the data"
      ],
      "metadata": {
        "id": "bOP8ZoPX7wug"
      }
    },
    {
      "cell_type": "markdown",
      "source": [
        "The three features that we will be working with most frequently henceforth are Installs, Size, and Price. A careful glance of the dataset reveals that some of these columns mandate data cleaning in order to be consumed by code we'll write later. Specifically, the presence of special characters (, $ +) and letters (M k) in the Installs, Size, and Price columns make their conversion to a numerical data type difficult. Let's clean by removing these and converting each column to a numeric type.as Data cleaning means fixing bad data in your data set.\n",
        "\n",
        "Bad data could be:\n",
        "\n",
        "Empty cells\n",
        "\n",
        "Data in wrong format\n",
        "\n",
        "Wrong data\n",
        "\n",
        "Duplicates\n",
        "\n",
        "Removing the nun value\n",
        "\n",
        "There are some feature of data cleaning as follow:\n"
      ],
      "metadata": {
        "id": "HJv8r0u377wj"
      }
    },
    {
      "cell_type": "markdown",
      "source": [
        "#### Duplicate Values"
      ],
      "metadata": {
        "id": "35m5QtbWiB9F"
      }
    },
    {
      "cell_type": "code",
      "source": [
        "# Dataset Duplicate Value Count\n",
        "print(play_data[play_data.duplicated()])"
      ],
      "metadata": {
        "id": "1sLdpKYkmox0"
      },
      "execution_count": null,
      "outputs": []
    },
    {
      "cell_type": "markdown",
      "source": [
        "#### Missing Values/Null Values"
      ],
      "metadata": {
        "id": "PoPl-ycgm1ru"
      }
    },
    {
      "cell_type": "code",
      "source": [
        "# Missing Values/Null Values Count\n",
        "print(play_data.isnull().sum())"
      ],
      "metadata": {
        "id": "GgHWkxvamxVg"
      },
      "execution_count": null,
      "outputs": []
    },
    {
      "cell_type": "code",
      "source": [
        "# Visualizing the missing values\n",
        "sns.heatmap(play_data.isnull(), cbar=False)"
      ],
      "metadata": {
        "id": "3q5wnI3om9sJ"
      },
      "execution_count": null,
      "outputs": []
    },
    {
      "cell_type": "markdown",
      "source": [
        "### What did you know about your dataset?"
      ],
      "metadata": {
        "id": "H0kj-8xxnORC"
      }
    },
    {
      "cell_type": "markdown",
      "source": [
        "We are having to datasets 1-Play Store Data.csv where we are having information about which App, what type of Apps where downloaded,no the basis of customer satisfaction their rating and reviews, how many memory they required,Gneres,they are free or payable.\n",
        "\n",
        "2- User review.csv in this dataset we are having sentiments and there opinion.\n",
        "\n",
        "\n",
        "\n",
        "*   Rating column have 1474 missing values\n",
        "*   type column have 1 missing values\n",
        "*   Content Rating have 1 missing values\n",
        "*   Android Ver column have 3 missing values\n",
        "\n",
        "\n",
        "\n"
      ],
      "metadata": {
        "id": "gfoNAAC-nUe_"
      }
    },
    {
      "cell_type": "markdown",
      "source": [
        "## ***2. Understanding Your Variables***"
      ],
      "metadata": {
        "id": "nA9Y7ga8ng1Z"
      }
    },
    {
      "cell_type": "code",
      "source": [
        "# Dataset Columns\n",
        "play_data.columns"
      ],
      "metadata": {
        "id": "j7xfkqrt5Ag5"
      },
      "execution_count": null,
      "outputs": []
    },
    {
      "cell_type": "code",
      "source": [
        "# Dataset Describe\n",
        "play_data.describe()"
      ],
      "metadata": {
        "id": "DnOaZdaE5Q5t"
      },
      "execution_count": null,
      "outputs": []
    },
    {
      "cell_type": "markdown",
      "source": [
        "### Variables Description "
      ],
      "metadata": {
        "id": "PBTbrJXOngz2"
      }
    },
    {
      "cell_type": "markdown",
      "source": [
        "It shows the statastical summary of the play store.\n",
        "\n",
        ".count : the number of no-null values 9367.000000\n",
        "\n",
        ".mean : the average value of column is 4.193338\n",
        "\n",
        ".std : the standard deviation of column is 0.537431\n",
        "\n",
        ".min : the minimum values in the column is 1.000000\n",
        "\n",
        "25% : the first quartile value of column is 4.000000\n",
        "\n",
        "50% : the median value of column is 4.300000\n",
        "\n",
        "75% : the third quartile value of column is 4.500000\n",
        "\n",
        "Max : the maximum value in the column is 19.000000"
      ],
      "metadata": {
        "id": "aJV4KIxSnxay"
      }
    },
    {
      "cell_type": "markdown",
      "source": [
        "### Check Unique Values for each variable."
      ],
      "metadata": {
        "id": "u3PMJOP6ngxN"
      }
    },
    {
      "cell_type": "code",
      "source": [
        "# Check Unique Values for each variable.\n",
        "for i in play_data.columns.tolist():\n",
        "  print(\"Unique Value in\",i,\"is\",play_data[i].nunique())"
      ],
      "metadata": {
        "id": "zms12Yq5n-jE"
      },
      "execution_count": null,
      "outputs": []
    },
    {
      "cell_type": "markdown",
      "source": [
        "## 3. ***Data Wrangling***"
      ],
      "metadata": {
        "id": "dauF4eBmngu3"
      }
    },
    {
      "cell_type": "markdown",
      "source": [
        "# Dataset 1 : Play Store Data.csv"
      ],
      "metadata": {
        "id": "gMER249ybbU6"
      }
    },
    {
      "cell_type": "markdown",
      "source": [
        "### Data Wrangling Code"
      ],
      "metadata": {
        "id": "bKJF3rekwFvQ"
      }
    },
    {
      "cell_type": "code",
      "source": [
        "# Write your code to make your dataset analysis ready.\n",
        "play_data_new = pd.DataFrame(index = play_data.columns)\n",
        "play_data_new[\"DataType\"] = play_data.dtypes\n",
        "play_data_new[\"notnull\"] = play_data.count()\n",
        "play_data_new[\"null\"] = play_data.isnull().sum()\n",
        "play_data_new"
      ],
      "metadata": {
        "id": "wk-9a2fpoLcV"
      },
      "execution_count": null,
      "outputs": []
    },
    {
      "cell_type": "code",
      "source": [
        "# rating has more null values so firstly cleaning those values\n",
        "# Here we saw that rating is given 19 aprox. Rating should be between 1 to 5\n",
        "play_data.boxplot()"
      ],
      "metadata": {
        "id": "BFcZEjpzWdUN"
      },
      "execution_count": null,
      "outputs": []
    },
    {
      "cell_type": "markdown",
      "source": [
        "App Rating is 19 thats why we will drop it."
      ],
      "metadata": {
        "id": "_lbAby8vYa-1"
      }
    },
    {
      "cell_type": "code",
      "source": [
        "# We have mostly rating between 1 to 5 here getting 19 so cheking \n",
        "play_data[(play_data['Rating'] >5) | (play_data['Rating'] <1)]"
      ],
      "metadata": {
        "id": "hNQuOkrZjOh9"
      },
      "execution_count": null,
      "outputs": []
    },
    {
      "cell_type": "code",
      "source": [
        "# here we drop the null value in 10472\n",
        "play_data.drop([10472], axis=0, inplace = True)\n"
      ],
      "metadata": {
        "id": "gOIIsXrzYqTb"
      },
      "execution_count": null,
      "outputs": []
    },
    {
      "cell_type": "code",
      "source": [
        "play_data.boxplot()"
      ],
      "metadata": {
        "id": "o3f8kQOSI9pG"
      },
      "execution_count": null,
      "outputs": []
    },
    {
      "cell_type": "code",
      "source": [
        "# Here we are cheking is mean and median, there is not much difference in mean and median\n",
        "rating_mean = play_data['Rating'].mean()\n",
        "print('mean : ',rating_mean)\n",
        "rating_median = play_data['Rating'].median()\n",
        "print(\"median : \",rating_mean)"
      ],
      "metadata": {
        "id": "xGYvYxrWgpB_"
      },
      "execution_count": null,
      "outputs": []
    },
    {
      "cell_type": "code",
      "source": [
        "# so we are filling rating of that perticular row of column rating by median\n",
        "play_data['Rating'].fillna(value = rating_median,inplace = True)"
      ],
      "metadata": {
        "id": "dPFsIWvLlf72"
      },
      "execution_count": null,
      "outputs": []
    },
    {
      "cell_type": "code",
      "source": [
        "#Here we print all null values in each column\n",
        "print(play_data.isnull().sum())"
      ],
      "metadata": {
        "id": "ex6tu16_mIBf"
      },
      "execution_count": null,
      "outputs": []
    },
    {
      "cell_type": "markdown",
      "source": [
        "\n",
        "1. still we are having null value in Type 1\n",
        "2. Android Ver have 2 null values\n",
        "3. Current Ver 8 null values\n",
        "\n",
        "\n",
        "\n"
      ],
      "metadata": {
        "id": "l0eXTuiommC6"
      }
    },
    {
      "cell_type": "code",
      "source": [
        "play_data[(play_data['Type'].isnull())]"
      ],
      "metadata": {
        "id": "wMNNPq3Dm4Ik"
      },
      "execution_count": null,
      "outputs": []
    },
    {
      "cell_type": "code",
      "source": [
        "# Amount of Free and Paid Apps\n",
        "play_data['Type'].value_counts()"
      ],
      "metadata": {
        "id": "OM3lAGQtnLe6"
      },
      "execution_count": null,
      "outputs": []
    },
    {
      "cell_type": "code",
      "source": [
        "# their are maximum free app so we fill that null type by Free \n",
        "play_data.loc[9148,'Type']='Free'"
      ],
      "metadata": {
        "id": "EBWZSonHoTT2"
      },
      "execution_count": null,
      "outputs": []
    },
    {
      "cell_type": "code",
      "source": [
        "play_data[(play_data['Type'].isnull())]"
      ],
      "metadata": {
        "id": "Ajjr0a9HpYnU"
      },
      "execution_count": null,
      "outputs": []
    },
    {
      "cell_type": "code",
      "source": [
        "# null values in Currrent Var\n",
        "play_data[(play_data['Current Ver'].isnull())]"
      ],
      "metadata": {
        "id": "PvbIsljLpqzi"
      },
      "execution_count": null,
      "outputs": []
    },
    {
      "cell_type": "code",
      "source": [
        "# Here we are droping all null values\n",
        "play_data.drop([15,1553,6322,6803,7333,7407,7730,10342], axis=0, inplace =True)"
      ],
      "metadata": {
        "id": "34h4HQ_nqcoJ"
      },
      "execution_count": null,
      "outputs": []
    },
    {
      "cell_type": "code",
      "source": [
        "play_data[(play_data['Current Ver'].isnull())]"
      ],
      "metadata": {
        "id": "L9lza4JnrIZ-"
      },
      "execution_count": null,
      "outputs": []
    },
    {
      "cell_type": "code",
      "source": [
        "# We are analysing null values in Android Ver\n",
        "play_data[(play_data['Android Ver'].isnull())]"
      ],
      "metadata": {
        "id": "2rr8XI4QraTG"
      },
      "execution_count": null,
      "outputs": []
    },
    {
      "cell_type": "code",
      "source": [
        "# Droping those column having null values\n",
        "play_data.drop([4453,4490], axis=0, inplace = True)"
      ],
      "metadata": {
        "id": "qBkkRzO7rk1O"
      },
      "execution_count": null,
      "outputs": []
    },
    {
      "cell_type": "code",
      "source": [
        "  \n",
        "play_data[(play_data['Android Ver'].isnull())]"
      ],
      "metadata": {
        "id": "7HLURjU5r_vh"
      },
      "execution_count": null,
      "outputs": []
    },
    {
      "cell_type": "markdown",
      "source": [
        "**Time to handle all data types for every column**"
      ],
      "metadata": {
        "id": "W-gBQI9W_sGV"
      }
    },
    {
      "cell_type": "code",
      "source": [
        "# Size is in KB AND MB\n",
        "play_data[\"Size\"]\n"
      ],
      "metadata": {
        "id": "VHlJkclq_46T"
      },
      "execution_count": null,
      "outputs": []
    },
    {
      "cell_type": "markdown",
      "source": [
        "**M means MB\n",
        "\n",
        "K means KB\n",
        "\n",
        "so we are going to convert it into single unit**"
      ],
      "metadata": {
        "id": "BgpT4poWIpiT"
      }
    },
    {
      "cell_type": "code",
      "source": [
        "# returns a Series that contain counts of unique values in Size\n",
        "play_data['Size'].value_counts()"
      ],
      "metadata": {
        "id": "yZirA9tCJ6wP"
      },
      "execution_count": null,
      "outputs": []
    },
    {
      "cell_type": "code",
      "source": [
        "# returns a Series that contain counts of unique values in Price\n",
        "play_data['Price'].value_counts()"
      ],
      "metadata": {
        "id": "t4ePm8nvIoT6"
      },
      "execution_count": null,
      "outputs": []
    },
    {
      "cell_type": "code",
      "source": [
        "# returns a Series that contain counts of unique values in Installs\n",
        "play_data['Installs'].value_counts()"
      ],
      "metadata": {
        "id": "ZEhlGyskKHqU"
      },
      "execution_count": null,
      "outputs": []
    },
    {
      "cell_type": "code",
      "source": [
        "#remove \",\" and \"+\" from Installs\n",
        "def remove_from_Installs(a):\n",
        "  if type(a) == str:\n",
        "    a = a.replace(\",\",'').replace('+','')\n",
        "  return a  \n",
        "play_data['Installs'] = play_data['Installs'].apply(remove_from_Installs) "
      ],
      "metadata": {
        "id": "I9K97JZgKXZq"
      },
      "execution_count": null,
      "outputs": []
    },
    {
      "cell_type": "code",
      "source": [
        "# remove $ from price\n",
        "def remove_from_price(b):\n",
        "  if type(b) == str and '$' in b:\n",
        "    b = b.replace(\",\",\"\").replace(\"+\",\"\")\n",
        "  return b  \n",
        "play_data['Price'] = play_data['Price'].apply(remove_from_price) "
      ],
      "metadata": {
        "id": "fkl4BvzmNYrk"
      },
      "execution_count": null,
      "outputs": []
    },
    {
      "cell_type": "code",
      "source": [
        "#now converting 'Reviews to numeric in play_data\n",
        "\n",
        "play_data['Reviews'] = play_data['Reviews'].astype(float)\n",
        "def clean_size(x):\n",
        "  if 'Varies with device' in str(x):\n",
        "    return np.nan\n",
        "  elif 'k' in str(x):\n",
        "    return float(str(x).replace('k','')) / 1024 \n",
        "  else:\n",
        "    return float(str(x).replace('M',''))\n",
        "\n",
        "play_data['Size'] = play_data['Size'].apply(clean_size) \n",
        "\n",
        "play_data['Installs'] = play_data['Installs'].replace('[^\\d]','', regex=True).astype(float) \n",
        "\n",
        "play_data['Price'] = play_data['Price'].replace('[^\\d\\.]','',regex=True).astype(float)\n",
        "\n",
        "play_data.info()"
      ],
      "metadata": {
        "id": "hfBJLN4MQAE4"
      },
      "execution_count": null,
      "outputs": []
    },
    {
      "cell_type": "markdown",
      "source": [
        "**Time to remove all duplicate app**"
      ],
      "metadata": {
        "id": "T237yCV2U_lU"
      }
    },
    {
      "cell_type": "code",
      "source": [
        "# time to print\n",
        "play_data['App'].value_counts()"
      ],
      "metadata": {
        "id": "uBx7xX4nVGfa"
      },
      "execution_count": null,
      "outputs": []
    },
    {
      "cell_type": "code",
      "source": [
        "# finding duplicates in app\n",
        "play_data['App'].duplicated().sum()\n"
      ],
      "metadata": {
        "id": "qALeBd_AVm08"
      },
      "execution_count": null,
      "outputs": []
    },
    {
      "cell_type": "code",
      "source": [
        "#droping duplicates\n",
        "play_data.drop_duplicates(subset ='App' ,inplace = True )"
      ],
      "metadata": {
        "id": "9AMjj7zfWVNZ"
      },
      "execution_count": null,
      "outputs": []
    },
    {
      "cell_type": "code",
      "source": [
        "# check duplicates are remove or not\n",
        "play_data['App'].duplicated().sum()"
      ],
      "metadata": {
        "id": "FIX07kcCWhdv"
      },
      "execution_count": null,
      "outputs": []
    },
    {
      "cell_type": "markdown",
      "source": [
        "**Summary** \n",
        "\n",
        "all duplicate value remove from dataset\n",
        "\n",
        "all null values remove from dataset\n",
        "\n",
        "all unwanted characters remove from dataset\n",
        "\n",
        "from price we had remove $\n",
        "\n",
        "In size we had converted it into single unit\n",
        "\n",
        "install have + , so we are removing"
      ],
      "metadata": {
        "id": "meD7pcitXDXI"
      }
    },
    {
      "cell_type": "markdown",
      "source": [
        "# Step 2 : Data Cleaning on User Reviews Dataset"
      ],
      "metadata": {
        "id": "NGOQyOvCbbiy"
      }
    },
    {
      "cell_type": "markdown",
      "source": [
        "# Dataset Loading"
      ],
      "metadata": {
        "id": "XYryqHN4c-4S"
      }
    },
    {
      "cell_type": "code",
      "source": [
        "# Load Dataset\n",
        "file_path2 = \"/content/User Reviews.csv\"\n",
        "user_data=pd.read_csv(file_path2)\n",
        "print(\"User Reviews.csv\",user_data)"
      ],
      "metadata": {
        "id": "FZsuV3Whcbxg"
      },
      "execution_count": null,
      "outputs": []
    },
    {
      "cell_type": "markdown",
      "source": [
        "# Dataset First View"
      ],
      "metadata": {
        "id": "JxHZ0CCNdC7i"
      }
    },
    {
      "cell_type": "code",
      "source": [
        "# Dataset First Look of User Reviews.csv \n",
        "# fast look on First 10 Rows\n",
        "user_data.head(10)"
      ],
      "metadata": {
        "id": "p__iALtDcgte"
      },
      "execution_count": null,
      "outputs": []
    },
    {
      "cell_type": "code",
      "source": [
        "# Take a look on last 10 Rows\n",
        "user_data.tail(10)"
      ],
      "metadata": {
        "id": "qAaSQpA0Tjpf"
      },
      "execution_count": null,
      "outputs": []
    },
    {
      "cell_type": "markdown",
      "source": [
        "# Dataset Rows & Columns count"
      ],
      "metadata": {
        "id": "0TGDRB8XdL3A"
      }
    },
    {
      "cell_type": "code",
      "source": [
        "# Dataset Rows & Columns count for User Review.csv\n",
        "rows = len(user_data.axes[0])\n",
        "print(rows)\n",
        "column = len(user_data.axes[1])\n",
        "print(column)"
      ],
      "metadata": {
        "id": "cAkU0Wl6cm63"
      },
      "execution_count": null,
      "outputs": []
    },
    {
      "cell_type": "markdown",
      "source": [
        "# Dataset Information"
      ],
      "metadata": {
        "id": "mmcvn3fzdSvu"
      }
    },
    {
      "cell_type": "code",
      "source": [
        "# Dataset Info for User Review.csv\n",
        "user_data.info()"
      ],
      "metadata": {
        "id": "I6OqHXUmcxJA"
      },
      "execution_count": null,
      "outputs": []
    },
    {
      "cell_type": "code",
      "source": [
        "# check the variables of user data\n",
        "user_data.columns"
      ],
      "metadata": {
        "id": "oje1HIAKd8CO"
      },
      "execution_count": null,
      "outputs": []
    },
    {
      "cell_type": "markdown",
      "source": [
        "# Data set has 5 columns\n",
        "\n",
        "App : Number of App\n",
        "\n",
        "Translated_Review : It contains all English Translation\n",
        "\n",
        "Sentiment : It give emotions like 'Positive' 'Negative' 'Neutral'\n",
        "\n",
        "Sentiment_Polarity : It gives polarity statement range(1, -1). 1 is positive polarity and -1 is negative polarity.\n",
        "\n",
        "Sentiment_Subjectivity : It will give opinion range(0,1).\n"
      ],
      "metadata": {
        "id": "UKxIf56DeRo4"
      }
    },
    {
      "cell_type": "code",
      "source": [
        "# info\n",
        "user_data.info()"
      ],
      "metadata": {
        "id": "bTflT6lgksmJ"
      },
      "execution_count": null,
      "outputs": []
    },
    {
      "cell_type": "code",
      "source": [
        "#Create new dataframe for new variable\n",
        "user_data_new = pd.DataFrame(index = user_data.columns)\n",
        "user_data_new[\"DataType\"] = user_data.dtypes\n",
        "user_data_new[\"notnull\"] = user_data.count()\n",
        "user_data_new[\"null\"] = user_data.isnull().sum()\n",
        "user_data_new"
      ],
      "metadata": {
        "id": "TXpYlxrNmfkd"
      },
      "execution_count": null,
      "outputs": []
    },
    {
      "cell_type": "code",
      "source": [
        "# displaying null values\n",
        "user_data[(user_data['Sentiment_Polarity'].isnull())]"
      ],
      "metadata": {
        "id": "8UfNiYJZo-Y7"
      },
      "execution_count": null,
      "outputs": []
    },
    {
      "cell_type": "code",
      "source": [
        "\n",
        "user_data['Sentiment_Polarity'].value_counts()"
      ],
      "metadata": {
        "id": "A7nW-c_dqqLV"
      },
      "execution_count": null,
      "outputs": []
    },
    {
      "cell_type": "code",
      "source": [
        "user_data.dropna(inplace = True)"
      ],
      "metadata": {
        "id": "tjYIDL9xq7U0"
      },
      "execution_count": null,
      "outputs": []
    },
    {
      "cell_type": "code",
      "source": [
        "user_data[(user_data['Sentiment_Polarity'].isnull())]"
      ],
      "metadata": {
        "id": "hq-YANywrOoT"
      },
      "execution_count": null,
      "outputs": []
    },
    {
      "cell_type": "code",
      "source": [
        "user_data.head(20)"
      ],
      "metadata": {
        "id": "QU0f4sdxrqNz"
      },
      "execution_count": null,
      "outputs": []
    },
    {
      "cell_type": "markdown",
      "source": [
        "### What all manipulations have you done and insights you found?"
      ],
      "metadata": {
        "id": "MSa1f5Uengrz"
      }
    },
    {
      "cell_type": "markdown",
      "source": [
        "Here we are manipulating all the duplicate values, all null values,remove \",\" and \"+\" from Installs,now converting 'Reviews to numeric in play_data,remove $ from price.\n",
        "\n",
        "This will helps us to visualize data with more efficient."
      ],
      "metadata": {
        "id": "LbyXE7I1olp8"
      }
    },
    {
      "cell_type": "markdown",
      "source": [
        "## ***4. Data Vizualization, Storytelling & Experimenting with charts : Understand the relationships between variables***"
      ],
      "metadata": {
        "id": "GF8Ens_Soomf"
      }
    },
    {
      "cell_type": "markdown",
      "source": [
        "##  Chart - 1\n",
        "\n",
        "# Ques:1 How much Apps are Paid and Free?"
      ],
      "metadata": {
        "id": "0wOQAZs5pc--"
      }
    },
    {
      "cell_type": "code",
      "source": [
        "# Chart - 1 visualization code\n",
        "free_paid = play_data['Type'].value_counts().reset_index()\n",
        "plt.figure(figsize=(12,10))\n",
        "colors = ['red','blue']\n",
        "plt.pie(x=free_paid['Type'], labels = free_paid['index'], colors=colors, autopct = '%.2f%%', textprops = {'fontsize':15})\n",
        "plt.title('free vs paid app')\n",
        "plt.legend()"
      ],
      "metadata": {
        "id": "7v_ESjsspbW7"
      },
      "execution_count": null,
      "outputs": []
    },
    {
      "cell_type": "markdown",
      "source": [
        "##### 1. Why did you pick the specific chart?"
      ],
      "metadata": {
        "id": "K5QZ13OEpz2H"
      }
    },
    {
      "cell_type": "markdown",
      "source": [
        "The choice of a pie chart for this specific task is suitable because it effectively presents the comparison of the \"free\" and \"paid\" app categories in a visually appealing and easily understandable format."
      ],
      "metadata": {
        "id": "XESiWehPqBRc"
      }
    },
    {
      "cell_type": "markdown",
      "source": [
        "##### 2. What is/are the insight(s) found from the chart?"
      ],
      "metadata": {
        "id": "lQ7QKXXCp7Bj"
      }
    },
    {
      "cell_type": "markdown",
      "source": [
        "These insights can help stakeholders such as app developers, marketers, or decision-makers understand the distribution of free and paid apps in the analyzed dataset and make informed decisions regarding pricing, monetization strategies, or targeting specific user segments."
      ],
      "metadata": {
        "id": "C_j1G7yiqdRP"
      }
    },
    {
      "cell_type": "markdown",
      "source": [
        "##### 3. Will the gained insights help creating a positive business impact? \n",
        "Are there any insights that lead to negative growth? Justify with specific reason."
      ],
      "metadata": {
        "id": "448CDAPjqfQr"
      }
    },
    {
      "cell_type": "markdown",
      "source": [
        "REASON\n",
        "Positive impact-The gained insights from the pie chart comparing free and paid apps can potentially have a positive business impact. However, it's important to consider that the actual impact will depend on the specific context and business goals. Here's an analysis of how the insights can contribute to positive business outcomes and potential areas of negative growth.\n",
        "\n",
        "Market Positioning: Analyzing the distribution between free and paid apps can help businesses assess the competitive landscape. If the market is dominated by free apps, there might be an opportunity for differentiation by offering paid apps with unique features or better user experience. This can help businesses establish a competitive advantage and potentially achieve growth\n",
        "\n",
        "Negative growth-To gain a more comprehensive understanding of insights leading to negative growth, it is important to consider factors such as market conditions, competition, pricing strategies, user preferences, product differentiation, and value proposition. Additionally, conducting further analysis and considering specific business objectives and context will help uncover insights specific to the given dataset and business situation.\n",
        "\n",
        "Limited Monetization Potential: If the majority of apps in the dataset are free, and there is a minimal proportion of paid apps, it suggests that the market may be highly saturated with free alternatives. In such a scenario, businesses relying solely on paid apps may face challenges in acquiring paying customers, resulting in limited revenue and potentially negative growth."
      ],
      "metadata": {
        "id": "3cspy4FjqxJW"
      }
    },
    {
      "cell_type": "markdown",
      "source": [
        "#### Chart - 2\n",
        "\n",
        "# Ques:2 Which category have most installation of Apps having category?"
      ],
      "metadata": {
        "id": "KSlN3yHqYklG"
      }
    },
    {
      "cell_type": "code",
      "source": [
        "# Chart - 2 visualization code\n",
        "data = play_data['Content Rating'].value_counts()\n",
        "labels = ['Everyone', 'Teen', 'Everyone 10+', 'Mature 17+','Adults only 18+', 'Unrated']\n",
        "\n",
        "#create pie chart\n",
        "plt.figure(figsize=(10,10))\n",
        "explode=(0,0.1,0.1,0.1,0.0,1.3)\n",
        "colors = ['C4', 'r', 'c', 'g', 'm', 'k']\n",
        "plt.pie(data, labels = labels, colors = colors, autopct='%.2f%%',explode=explode,textprops={'fontsize': 15})\n",
        "plt.title('Content Rating',size=20,loc='center')\n",
        "plt.legend()"
      ],
      "metadata": {
        "id": "kyhjDcJ38swz"
      },
      "execution_count": null,
      "outputs": []
    },
    {
      "cell_type": "markdown",
      "source": [
        "##### 1. Why did you pick the specific chart?"
      ],
      "metadata": {
        "id": "t6dVpIINYklI"
      }
    },
    {
      "cell_type": "markdown",
      "source": [
        "By using a stacked bar chart, it becomes easier to compare the distribution of free and paid apps across different categories and identify any variations or patterns. The chart helps in understanding the overall distribution and relative proportions of free and paid apps within each category, making it a suitable choice for this particular analysis."
      ],
      "metadata": {
        "id": "5aaW0BYyYklI"
      }
    },
    {
      "cell_type": "markdown",
      "source": [
        "##### 2. What is/are the insight(s) found from the chart?"
      ],
      "metadata": {
        "id": "ijmpgYnKYklI"
      }
    },
    {
      "cell_type": "markdown",
      "source": [
        "Pricing strategies, and target markets. For example, categories with a high proportion of paid apps may indicate a market where users are willing to invest in app purchases, while categories dominated by free apps may require alternative monetization strategies such as in-app purchases or advertising."
      ],
      "metadata": {
        "id": "PSx9atu2YklI"
      }
    },
    {
      "cell_type": "markdown",
      "source": [
        "##### 3. Will the gained insights help creating a positive business impact? \n",
        "Are there any insights that lead to negative growth? Justify with specific reason."
      ],
      "metadata": {
        "id": "-JiQyfWJYklI"
      }
    },
    {
      "cell_type": "markdown",
      "source": [
        "REASON\n",
        "positive impact--Important to consider other factors such as market trends, customer preferences, competition, and overall business strategy. Additionally, businesses should conduct further analysis, such as user segmentation and in-depth market research, to ensure that their decisions align with their specific goals and target audience.\n",
        "\n",
        "Business Growth Opportunities-: The insights gained from the chart can help businesses identify potential areas for growth. Categories with a significant number of apps, particularly those dominated by free apps, may indicate a larger user base. This presents opportunities to leverage a larger user base for alternative monetization strategies such as in-app purchases, subscriptions, or advertising.\n",
        "\n",
        "Negative growth:-Conducting additional market research, user surveys, and analyzing revenue data can provide a more comprehensive understanding of potential negative growth factors and inform strategic decisions.\n",
        "\n",
        "Highly Competitive Categories-: If certain categories have a high concentration of both free and paid apps, it suggests intense competition. In such cases, businesses may face difficulties in gaining market share and sustaining growth, especially if they are unable to differentiate their paid apps effectively."
      ],
      "metadata": {
        "id": "BcBbebzrYklV"
      }
    },
    {
      "cell_type": "markdown",
      "source": [
        "#### Chart - 3\n",
        "\n",
        "# Ques 3 which Category of App related to 'Content Rating' is more?"
      ],
      "metadata": {
        "id": "EM7whBJCYoAo"
      }
    },
    {
      "cell_type": "code",
      "source": [
        "# Chart - 3 visualization code\n",
        "category_count = play_data.groupby(['Category','Content Rating']).count()['App'].unstack()\n",
        "category_count.plot(kind ='bar',stacked=True)\n",
        "plt.title(\"Distribution of Category of App related to 'Content Rating' is more\")\n",
        "plt.xlabel(\"Category\")\n",
        "plt.ylabel(\"Content Rating\")\n",
        "plt.show()\n"
      ],
      "metadata": {
        "id": "t6GMdE67YoAp"
      },
      "execution_count": null,
      "outputs": []
    },
    {
      "cell_type": "markdown",
      "source": [
        "##### 1. Why did you pick the specific chart?"
      ],
      "metadata": {
        "id": "fge-S5ZAYoAp"
      }
    },
    {
      "cell_type": "markdown",
      "source": [
        "The chart helps in understanding the overall distribution and relative proportions of different content ratings within each category, making it a suitable choice for this particular analysis."
      ],
      "metadata": {
        "id": "5dBItgRVYoAp"
      }
    },
    {
      "cell_type": "markdown",
      "source": [
        "##### 2. What is/are the insight(s) found from the chart?"
      ],
      "metadata": {
        "id": "85gYPyotYoAp"
      }
    },
    {
      "cell_type": "markdown",
      "source": [
        "These insights can assist businesses in making informed decisions regarding content creation, marketing strategies, audience targeting, and app category selection. They can also help ensure compliance with content guidelines and regulations, as well as optimize user acquisition efforts by aligning with the target audience for each app category."
      ],
      "metadata": {
        "id": "4jstXR6OYoAp"
      }
    },
    {
      "cell_type": "markdown",
      "source": [
        "##### 3. Will the gained insights help creating a positive business impact? \n",
        "Are there any insights that lead to negative growth? Justify with specific reason."
      ],
      "metadata": {
        "id": "RoGjAbkUYoAp"
      }
    },
    {
      "cell_type": "markdown",
      "source": [
        "REASON:-\n",
        "Positive impact:-The chart can help businesses make informed decisions regarding marketing, user acquisition, user experience, monetization, product development, compliance, and reputation management. By leveraging these insights, businesses can enhance their strategies, offerings, and overall operations, leading to a positive business impact such as increased user engagement, customer satisfaction, revenue growth, market positioning, and brand reputation.\n",
        "\n",
        "Targeted Marketing and User Acquisition: Understanding the content rating distribution within each app category allows businesses to tailor their marketing efforts and user acquisition strategies to reach the desired target audience. By aligning marketing messages, channels, and campaigns with the prevalent content ratings in each category, businesses can effectively attract and engage users who are more likely to be interested in their apps.\n",
        "\n",
        "Negative growth:-The distribution of app categories based on content ratings, it is not possible to directly identify insights that would lead to negative growth. The chart primarily provides information about the distribution of content ratings within each app category. It does not indicate any negative growth factors or explicitly highlight any negative implications for business."
      ],
      "metadata": {
        "id": "zfJ8IqMcYoAp"
      }
    },
    {
      "cell_type": "markdown",
      "source": [
        "#### Chart - 4\n",
        "\n",
        "#  Which Category getting higest Rating?"
      ],
      "metadata": {
        "id": "4Of9eVA-YrdM"
      }
    },
    {
      "cell_type": "code",
      "source": [
        "# Chart - 4 visualization code\n",
        "play_data.groupby('Category')['Rating'].mean().sort_values(ascending= False)\n",
        "x = play_data['Category']\n",
        "y = play_data['Rating']\n",
        "plt.barh(x,y)\n",
        "plt.xticks(rotation = 180 , ha = 'right', fontsize=10)\n",
        "plt.show()"
      ],
      "metadata": {
        "id": "irlUoxc8YrdO"
      },
      "execution_count": null,
      "outputs": []
    },
    {
      "cell_type": "markdown",
      "source": [
        "##### 1. Why did you pick the specific chart?"
      ],
      "metadata": {
        "id": "iky9q4vBYrdO"
      }
    },
    {
      "cell_type": "markdown",
      "source": [
        "The bar chart provides a clear and concise representation of the average ratings of different app categories, making it an appropriate choice for visualizing this specific data."
      ],
      "metadata": {
        "id": "aJRCwT6DYrdO"
      }
    },
    {
      "cell_type": "markdown",
      "source": [
        "##### 2. What is/are the insight(s) found from the chart?"
      ],
      "metadata": {
        "id": "F6T5p64dYrdO"
      }
    },
    {
      "cell_type": "markdown",
      "source": [
        "The average ratings of app categories and may require further analysis, such as considering the sample size, rating distribution within categories, and other relevant factors, to draw more conclusive and actionable insights."
      ],
      "metadata": {
        "id": "Xx8WAJvtYrdO"
      }
    },
    {
      "cell_type": "markdown",
      "source": [
        "##### 3. Will the gained insights help creating a positive business impact? \n",
        "Are there any insights that lead to negative growth? Justify with specific reason."
      ],
      "metadata": {
        "id": "y-Ehk30pYrdP"
      }
    },
    {
      "cell_type": "markdown",
      "source": [
        "REASON\n",
        "Positive impact:-While the gained insights from the chart provide valuable information, it is important to consider other factors such as user feedback, market trends, and competition in order to fully leverage these insights for positive business impact. Continuous monitoring, strategic decision-making, and action based on the insights gained can help businesses optimize their offerings and achieve positive results.\n",
        "\n",
        "Identify High-Performing Categories: By analyzing the average ratings, businesses can identify app categories that receive higher ratings on average. These high-performing categories indicate areas where users are more satisfied, which can serve as a guide for businesses looking to invest in or expand their offerings within those categories.\n",
        "\n",
        "Negative growth:-The chart primarily focuses on displaying the average ratings for each category, providing an overview of user satisfaction across categories. It does not explicitly indicate factors or insights that directly contribute to negative growth.\n",
        "\n",
        "User Feedback and Reviews: Looking into user feedback and reviews can provide valuable insights into specific reasons behind lower ratings. Negative reviews and comments may highlight issues such as app functionality, usability, performance, or lack of desired features. Analyzing user feedback can help identify pain points and areas requiring attention for improvement"
      ],
      "metadata": {
        "id": "jLNxxz7MYrdP"
      }
    },
    {
      "cell_type": "markdown",
      "source": [
        "#### Chart - 5\n",
        "\n",
        "# Ques 5: Which App Category is most Installed ?"
      ],
      "metadata": {
        "id": "bamQiAODYuh1"
      }
    },
    {
      "cell_type": "code",
      "source": [
        "# Instalation related to App Categories\n",
        "play_data['Genres']"
      ],
      "metadata": {
        "id": "OU-lK1PrFWKD"
      },
      "execution_count": null,
      "outputs": []
    },
    {
      "cell_type": "code",
      "source": [
        "# Count the frequency of each genre\n",
        "genre_counts = play_data['Genres'].value_counts()\n",
        "\n",
        "# Create the bar graph\n",
        "plt.figure(figsize=(15,20))\n",
        "genre_counts.plot(kind='bar')\n",
        "plt.xticks(rotation=90, ha='right', fontsize=8)\n",
        "plt.xlabel('Genre')\n",
        "plt.ylabel('Frequency')\n",
        "plt.title('Genre Distribution')\n",
        "\n",
        "plt.show()"
      ],
      "metadata": {
        "id": "1qIkkITIm2cS"
      },
      "execution_count": null,
      "outputs": []
    },
    {
      "cell_type": "markdown",
      "source": [
        "##### 1. Why did you pick the specific chart?"
      ],
      "metadata": {
        "id": "QHF8YVU7Yuh3"
      }
    },
    {
      "cell_type": "markdown",
      "source": [
        "The choice of a bar graph in this scenario is suitable because it effectively presents the distribution of genres in a clear and visually appealing manner, facilitating easy comparisons and analysis."
      ],
      "metadata": {
        "id": "dcxuIMRPYuh3"
      }
    },
    {
      "cell_type": "markdown",
      "source": [
        "##### 2. What is/are the insight(s) found from the chart?"
      ],
      "metadata": {
        "id": "GwzvFGzlYuh3"
      }
    },
    {
      "cell_type": "markdown",
      "source": [
        "In this we found that the tool app category is highest followed by Entertenment and Education."
      ],
      "metadata": {
        "id": "uyqkiB8YYuh3"
      }
    },
    {
      "cell_type": "markdown",
      "source": [
        "##### 3. Will the gained insights help creating a positive business impact? \n",
        "Are there any insights that lead to negative growth? Justify with specific reason."
      ],
      "metadata": {
        "id": "qYpmQ266Yuh3"
      }
    },
    {
      "cell_type": "markdown",
      "source": [
        "This help both the developer and the marketer to improve their apps."
      ],
      "metadata": {
        "id": "_WtzZ_hCYuh4"
      }
    },
    {
      "cell_type": "markdown",
      "source": [
        "#### Chart - 6\n",
        "\n",
        "# What is the distribution of App Rating ?"
      ],
      "metadata": {
        "id": "OH-pJp9IphqM"
      }
    },
    {
      "cell_type": "code",
      "source": [
        "# Chart - 6 visualization code\n",
        "merge_data = pd.merge(play_data, user_data, on ='App')\n",
        "plt.hist(merge_data['Rating'], bins=20)\n",
        "plt.xlabel('App Rating')\n",
        "plt.ylabel('Frequency')\n",
        "plt.title('Distribution of App Rating')\n",
        "plt.show()"
      ],
      "metadata": {
        "id": "kuRf4wtuphqN"
      },
      "execution_count": null,
      "outputs": []
    },
    {
      "cell_type": "markdown",
      "source": [
        "##### 1. Why did you pick the specific chart?"
      ],
      "metadata": {
        "id": "bbFf2-_FphqN"
      }
    },
    {
      "cell_type": "markdown",
      "source": [
        "Histogram is an appropriate choice to visualize the distribution of app ratings because it effectively represents the frequency of ratings within different ranges, allowing for insights into the overall pattern and characteristics of the ratings distribution."
      ],
      "metadata": {
        "id": "loh7H2nzphqN"
      }
    },
    {
      "cell_type": "markdown",
      "source": [
        "##### 2. What is/are the insight(s) found from the chart?"
      ],
      "metadata": {
        "id": "_ouA3fa0phqN"
      }
    },
    {
      "cell_type": "markdown",
      "source": [
        " The histogram will show how the app ratings are distributed across different rating ranges. represents the most common app rating.If the histogram is skewed to the left, it indicates that lower ratings are more common."
      ],
      "metadata": {
        "id": "VECbqPI7phqN"
      }
    },
    {
      "cell_type": "markdown",
      "source": [
        "##### 3. Will the gained insights help creating a positive business impact? \n",
        "Are there any insights that lead to negative growth? Justify with specific reason."
      ],
      "metadata": {
        "id": "Seke61FWphqN"
      }
    },
    {
      "cell_type": "markdown",
      "source": [
        "REASON\n",
        "Positive impact :-the app rating distribution can help businesses make data-driven decisions, improve customer satisfaction, drive positive app performance, and ultimately have a positive impact on their business.\n",
        "\n",
        "Understanding Customer Satisfaction: Analyzing the distribution of app ratings provides valuable insights into customer satisfaction. Identifying the most common rating range and overall rating pattern allows businesses to gauge the satisfaction level of their app users.\n",
        "\n",
        "Negative growth:-the actual histogram to interpret the specific insights accurately. These potential insights serve as general scenarios that, if observed in the app rating distribution, might indicate negative growth.\n",
        "\n",
        "Declining Ratings Trend over Time: If the histogram shows a declining trend in app ratings over time, it implies a decreasing level of user satisfaction. This downward trend in ratings can lead to negative growth."
      ],
      "metadata": {
        "id": "DW4_bGpfphqN"
      }
    },
    {
      "cell_type": "markdown",
      "source": [
        "#### Chart - 7\n",
        "\n",
        "# Ques 7:  Which Categories have the most Reviews?"
      ],
      "metadata": {
        "id": "PIIx-8_IphqN"
      }
    },
    {
      "cell_type": "code",
      "source": [
        "# Chart - 7 visualization code\n",
        "review_category = merge_data.groupby('Category')['Translated_Review'].count().sort_values(ascending = False)\n",
        "plt.figure(figsize=(10,6))\n",
        "sns.barplot(x=review_category, y=review_category.index, palette ='Blues_r')\n",
        "plt.xlabel('N0 of Reviews')\n",
        "plt.ylabel('Category')\n",
        "plt.title(\"Number of Reviews by Category\")\n",
        "plt.show()"
      ],
      "metadata": {
        "id": "lqAIGUfyphqO"
      },
      "execution_count": null,
      "outputs": []
    },
    {
      "cell_type": "markdown",
      "source": [
        "##### 1. Why did you pick the specific chart?"
      ],
      "metadata": {
        "id": "t27r6nlMphqO"
      }
    },
    {
      "cell_type": "markdown",
      "source": [
        "We choose a horizontal bar chart to visualize the distribution of reviews across different app categories because it allows for easy comparision of the number of reviews for each category\n",
        "\n",
        "The horizontal layout also makes it easier to read the category labels "
      ],
      "metadata": {
        "id": "iv6ro40sphqO"
      }
    },
    {
      "cell_type": "markdown",
      "source": [
        "##### 2. What is/are the insight(s) found from the chart?"
      ],
      "metadata": {
        "id": "r2jJGEOYphqO"
      }
    },
    {
      "cell_type": "markdown",
      "source": [
        "User's typically leaves reviews for an applications after using it and we can see that the GAME category have the highest number of reviews.\n",
        "This suggest that the GAME category has a large and engaged user base.\n",
        "HEALT and FITNESS as well as FAMILY are the next higest categories in terms of reviews received. The DATIND and TRAVEL_AND_local category have aprox similar number of reviews from user. "
      ],
      "metadata": {
        "id": "Po6ZPi4hphqO"
      }
    },
    {
      "cell_type": "markdown",
      "source": [
        "##### 3. Will the gained insights help creating a positive business impact? \n",
        "Are there any insights that lead to negative growth? Justify with specific reason."
      ],
      "metadata": {
        "id": "b0JNsNcRphqO"
      }
    },
    {
      "cell_type": "markdown",
      "source": [
        "It provies insights into which categories have a large and engaged user base, which could be useful for app developer's and marketer's to target their efforts towards these categories.\n",
        "It also highlights the importance of providing a positive user experience in order to encourage user's to leave reviews, Which can ultimately lead to increase visibility and downloads for an app."
      ],
      "metadata": {
        "id": "xvSq8iUTphqO"
      }
    },
    {
      "cell_type": "markdown",
      "source": [
        "#### Chart - 8\n",
        "\n",
        "# Ques 8: What is the Average_app size in different Categories ?"
      ],
      "metadata": {
        "id": "BZR9WyysphqO"
      }
    },
    {
      "cell_type": "code",
      "source": [
        "mean_size =play_data.groupby('Category')['Size'].mean()/1000000\n",
        "plt.figure(figsize=(12, 8))\n",
        "mean_size.plot(kind='bar')\n",
        "plt.xticks(rotation=90)\n",
        "plt.xlabel(\"Category\")\n",
        "plt.ylabel(\"Average App size (MB)\")\n",
        "plt.show()"
      ],
      "metadata": {
        "id": "bUf26FQyAVNk"
      },
      "execution_count": null,
      "outputs": []
    },
    {
      "cell_type": "markdown",
      "source": [
        "##### 1. Why did you pick the specific chart?"
      ],
      "metadata": {
        "id": "jj7wYXLtphqO"
      }
    },
    {
      "cell_type": "markdown",
      "source": [
        "We choose Bar chart because it is very simple and effective way to compare the average app size with different category."
      ],
      "metadata": {
        "id": "Ob8u6rCTphqO"
      }
    },
    {
      "cell_type": "markdown",
      "source": [
        "##### 2. What is/are the insight(s) found from the chart?"
      ],
      "metadata": {
        "id": "eZrbJ2SmphqO"
      }
    },
    {
      "cell_type": "markdown",
      "source": [
        "Apps in different categories have different average sizes. The biggest apps are in the 'GAME' and 'FAMILY' categories, while the smallest apps are in the 'TOOLS' and 'LIBRARIES' and 'DEMO' categories."
      ],
      "metadata": {
        "id": "mZtgC_hjphqO"
      }
    },
    {
      "cell_type": "markdown",
      "source": [
        "##### 3. Will the gained insights help creating a positive business impact? \n",
        "Are there any insights that lead to negative growth? Justify with specific reason."
      ],
      "metadata": {
        "id": "rFu4xreNphqO"
      }
    },
    {
      "cell_type": "markdown",
      "source": [
        "It helps app Develpoers to better optimize the size of there app according to their target category, as well as give them insights on the size of their competitors app in the same category. Also take care of their app that should not of big size for user device."
      ],
      "metadata": {
        "id": "ey_0qi68phqO"
      }
    },
    {
      "cell_type": "markdown",
      "source": [
        "#### Chart - 9\n",
        "\n",
        "# What is the Average rating Free apps VS Paid apps?\n"
      ],
      "metadata": {
        "id": "YJ55k-q6phqO"
      }
    },
    {
      "cell_type": "code",
      "source": [
        "# Chart - 9 visualization code\n",
        "merge_data = pd.merge(play_data , user_data, on='App')\n",
        "average_data = merge_data[merge_data['Type'].isin(['Free' , 'Paid'])]\n",
        "sns.violinplot(x ='Type', y = 'Rating', data = average_data, palette=['#66b3ff','#ffcc99'])\n",
        "plt.title(\" the Average rating Free apps VS Paid apps\")\n",
        "plt.show()"
      ],
      "metadata": {
        "id": "B2aS4O1ophqO"
      },
      "execution_count": null,
      "outputs": []
    },
    {
      "cell_type": "markdown",
      "source": [
        "##### 1. Why did you pick the specific chart?"
      ],
      "metadata": {
        "id": "gCFgpxoyphqP"
      }
    },
    {
      "cell_type": "markdown",
      "source": [
        "We choose violin chart because it shows the distribution between free app and paid app, it also shows the average rating."
      ],
      "metadata": {
        "id": "TVxDimi2phqP"
      }
    },
    {
      "cell_type": "markdown",
      "source": [
        "##### 2. What is/are the insight(s) found from the chart?"
      ],
      "metadata": {
        "id": "OVtJsKN_phqQ"
      }
    },
    {
      "cell_type": "markdown",
      "source": [
        "Both Free and Paid apps have a similar average rating of about 4.3. Howerver,'Free' apps have a wider range of rating than 'Paid' apps, means their is more variation in their rating. On the other hand 'Paid' apps have a more consistent\n",
        "rating, with fewer extreme rating.This information can be helpful for users when deciding whether to download a Free or Paid app."
      ],
      "metadata": {
        "id": "ngGi97qjphqQ"
      }
    },
    {
      "cell_type": "markdown",
      "source": [
        "##### 3. Will the gained insights help creating a positive business impact? \n",
        "Are there any insights that lead to negative growth? Justify with specific reason."
      ],
      "metadata": {
        "id": "lssrdh5qphqQ"
      }
    },
    {
      "cell_type": "markdown",
      "source": [
        "This information helps company whetheer to offer their app for free or paid.  If they want wider audience they have to provide their app for free"
      ],
      "metadata": {
        "id": "tBpY5ekJphqQ"
      }
    },
    {
      "cell_type": "markdown",
      "source": [
        "#### Chart - 10\n",
        "\n",
        "# What is Percentage of apps belonging to each category in the playstore ?"
      ],
      "metadata": {
        "id": "U2RJ9gkRphqQ"
      }
    },
    {
      "cell_type": "code",
      "source": [
        "# Percentage of apps belonging to each category in the playstore\n",
        "plt.figure(figsize=(18,18))\n",
        "plt.pie(play_data.Category.value_counts(), labels=play_data.Category.value_counts().index, autopct='%1.2f%%')\n",
        "my_circle = plt.Circle( (0,0), 0.50, color='white')\n",
        "p=plt.gcf()\n",
        "p.gca().add_artist(my_circle)\n",
        "plt.title('% of apps share in each Category', fontsize = 25)\n",
        "plt.show()"
      ],
      "metadata": {
        "id": "082vv8OmCm8i"
      },
      "execution_count": null,
      "outputs": []
    },
    {
      "cell_type": "markdown",
      "source": [
        "##### 1. Why did you pick the specific chart?"
      ],
      "metadata": {
        "id": "1M8mcRywphqQ"
      }
    },
    {
      "cell_type": "markdown",
      "source": [
        "A pie chart is the best choise for the distribution of content rating on the basis of age."
      ],
      "metadata": {
        "id": "8agQvks0phqQ"
      }
    },
    {
      "cell_type": "markdown",
      "source": [
        "##### 2. What is/are the insight(s) found from the chart?"
      ],
      "metadata": {
        "id": "tgIPom80phqQ"
      }
    },
    {
      "cell_type": "markdown",
      "source": [
        "Most of the apps on the play store have a contrnt rating of Everyone(),This is followed by Teen(), Everyone 10+(),mature 17+(), Adults only  18+ () and unrated()."
      ],
      "metadata": {
        "id": "Qp13pnNzphqQ"
      }
    },
    {
      "cell_type": "markdown",
      "source": [
        "##### 3. Will the gained insights help creating a positive business impact? \n",
        "Are there any insights that lead to negative growth? Justify with specific reason."
      ],
      "metadata": {
        "id": "JMzcOPDDphqR"
      }
    },
    {
      "cell_type": "markdown",
      "source": [
        "This information can help app developers to know that the majority of apps have a 'Everyone' rating, which allows for a broad audience, But for business targeting specific age groups, like 'Mature 17+' or 'Adults only 18+' this information can be useful as there is less competition in thoe area."
      ],
      "metadata": {
        "id": "R4Ka1PC2phqR"
      }
    },
    {
      "cell_type": "markdown",
      "source": [
        "#### Chart - 11\n",
        "\n",
        "# Which Category have the most Sentiment "
      ],
      "metadata": {
        "id": "x-EpHcCOp1ci"
      }
    },
    {
      "cell_type": "code",
      "source": [
        "# Chart - 11 visualization code\n",
        "data = user_data['Sentiment'].value_counts().reset_index()\n",
        "plt.figure(figsize=(12,10))\n",
        "colors = ['green','yellow','pink']\n",
        "explode = (0,0.1,0.3)\n",
        "plt.pie(x=data['Sentiment'], labels = data['index'], explode=explode, colors=colors, autopct = '%.2f%%', textprops = {'fontsize':15})\n",
        "plt.title('free vs paid app')\n",
        "plt.legend()"
      ],
      "metadata": {
        "id": "mAQTIvtqp1cj"
      },
      "execution_count": null,
      "outputs": []
    },
    {
      "cell_type": "markdown",
      "source": [
        "##### 1. Why did you pick the specific chart?"
      ],
      "metadata": {
        "id": "X_VqEhTip1ck"
      }
    },
    {
      "cell_type": "markdown",
      "source": [
        "We choose pie chart because it shows the perfect visualization on sentiments in User Reviews dataset, and also easy to understand sentiments easily."
      ],
      "metadata": {
        "id": "-vsMzt_np1ck"
      }
    },
    {
      "cell_type": "markdown",
      "source": [
        "##### 2. What is/are the insight(s) found from the chart?"
      ],
      "metadata": {
        "id": "8zGJKyg5p1ck"
      }
    },
    {
      "cell_type": "markdown",
      "source": [
        "Complete sentiments related to apps,where we had postive sentiment(),negative sentiment(),neutral sentiment(),nan().\n"
      ],
      "metadata": {
        "id": "ZYdMsrqVp1ck"
      }
    },
    {
      "cell_type": "markdown",
      "source": [
        "##### 3. Will the gained insights help creating a positive business impact? \n",
        "Are there any insights that lead to negative growth? Justify with specific reason."
      ],
      "metadata": {
        "id": "PVzmfK_Ep1ck"
      }
    },
    {
      "cell_type": "markdown",
      "source": [
        "This will help both the developers and the marketers about the response of user on apps where this sentiments helps developer to make apps in such a way that to convert sentiments negative to positive."
      ],
      "metadata": {
        "id": "druuKYZpp1ck"
      }
    },
    {
      "cell_type": "markdown",
      "source": [
        "#### Chart - 12\n",
        "\n",
        "# Ques 12 : What is Distribution of Apps Category by Sentiment[Negative,Positive,Neutral]"
      ],
      "metadata": {
        "id": "n3dbpmDWp1ck"
      }
    },
    {
      "cell_type": "code",
      "source": [
        "# Chart - 12 visualization code\n",
        "merge_data = pd.merge(play_data, user_data, on='App')\n",
        "category_count = merge_data.groupby(['Category','Sentiment']).count()['App'].unstack()\n",
        "category_count.plot(kind ='bar',stacked=True)\n",
        "plt.title(\"Distribution of Apps Category by Sentiment[Negative,Positive,Neutral]\")\n",
        "plt.xlabel(\"Category\")\n",
        "plt.ylabel(\"Sentiment\")\n",
        "plt.show()"
      ],
      "metadata": {
        "id": "bwevp1tKp1ck"
      },
      "execution_count": null,
      "outputs": []
    },
    {
      "cell_type": "markdown",
      "source": [
        "##### 1. Why did you pick the specific chart?"
      ],
      "metadata": {
        "id": "ylSl6qgtp1ck"
      }
    },
    {
      "cell_type": "markdown",
      "source": [
        "This bar char is simple to analyse each and evey ploted graph and for visualisation."
      ],
      "metadata": {
        "id": "m2xqNkiQp1ck"
      }
    },
    {
      "cell_type": "markdown",
      "source": [
        "##### 2. What is/are the insight(s) found from the chart?"
      ],
      "metadata": {
        "id": "ZWILFDl5p1ck"
      }
    },
    {
      "cell_type": "markdown",
      "source": [
        "In this chart we analyse that GAME category is having the highest sentiments(positive,negative,neutral), followed by HEALTH AND FITNESS and FAMILY."
      ],
      "metadata": {
        "id": "x-lUsV2mp1ck"
      }
    },
    {
      "cell_type": "markdown",
      "source": [
        "##### 3. Will the gained insights help creating a positive business impact? \n",
        "Are there any insights that lead to negative growth? Justify with specific reason."
      ],
      "metadata": {
        "id": "M7G43BXep1ck"
      }
    },
    {
      "cell_type": "markdown",
      "source": [
        "Yes it will give a positve business impact to developers and marketers to improve their apps quality so the positive sentiments high."
      ],
      "metadata": {
        "id": "5wwDJXsLp1cl"
      }
    },
    {
      "cell_type": "markdown",
      "source": [
        "# Chart - 13 - Correlation Heatmap"
      ],
      "metadata": {
        "id": "weNro9FQ8Ni3"
      }
    },
    {
      "cell_type": "code",
      "source": [
        "# Create a heatmap using Seaborn\n",
        "plt.figure(figsize=(5,8))\n",
        "sns.heatmap(play_data.corr(), annot=True, cmap='Accent_r',fmt='.2f')\n",
        "plt.title('Correlation Heatmap')\n",
        "\n",
        "# Display the plot\n",
        "plt.legend()\n"
      ],
      "metadata": {
        "id": "xyC9zolEZNRQ"
      },
      "execution_count": null,
      "outputs": []
    },
    {
      "cell_type": "markdown",
      "source": [
        "1. Why did you pick the specific chart?"
      ],
      "metadata": {
        "id": "cI4rWfCe9Tf9"
      }
    },
    {
      "cell_type": "markdown",
      "source": [
        "The correlation heatmap is a popular and effective choice for visualizing correlations in a dataset, allowing for quick insights and identification of relationships between variables.Answer Her"
      ],
      "metadata": {
        "id": "4y64pwnQ9TOy"
      }
    },
    {
      "cell_type": "markdown",
      "source": [
        "2. What is/are the insight(s) found from the chart?"
      ],
      "metadata": {
        "id": "5KaIQNp69TJa"
      }
    },
    {
      "cell_type": "markdown",
      "source": [
        "These insights provide an understanding of the relationships between different variables in the dataset. For example, the correlation between app size and reviews can indicate the importance of optimizing app size to encourage user reviews. Similarly, the correlation between rating and installs highlights the impact of app ratings on user acquisition and retention."
      ],
      "metadata": {
        "id": "sYXWOnoM9SUK"
      }
    },
    {
      "cell_type": "markdown",
      "source": [
        "## Chart - 14 - Pair Plot "
      ],
      "metadata": {
        "id": "q29F0dvdveiT"
      }
    },
    {
      "cell_type": "code",
      "source": [
        "play_data.head(5)"
      ],
      "metadata": {
        "id": "QZbdXrDthlbl"
      },
      "execution_count": null,
      "outputs": []
    },
    {
      "cell_type": "code",
      "source": [
        "# Pair Plot visualization code\n",
        "merge_dt = pd.merge(play_data,user_data , on ='App' , how ='inner')\n",
        "columns = ['Rating','Reviews','Size','Installs','Price']\n",
        "sns.pairplot(data=merge_dt[columns])\n",
        "plt.show()"
      ],
      "metadata": {
        "id": "o58-TEIhveiU"
      },
      "execution_count": null,
      "outputs": []
    },
    {
      "cell_type": "markdown",
      "source": [
        "##### 1. Why did you pick the specific chart?"
      ],
      "metadata": {
        "id": "EXh0U9oCveiU"
      }
    },
    {
      "cell_type": "markdown",
      "source": [
        "Pair plot is best choice for exploratory data  analysis as it allows us to visualize the relationships between different columns in the dataset."
      ],
      "metadata": {
        "id": "eMmPjTByveiU"
      }
    },
    {
      "cell_type": "markdown",
      "source": [
        "##### 2. What is/are the insight(s) found from the chart?"
      ],
      "metadata": {
        "id": "22aHeOlLveiV"
      }
    },
    {
      "cell_type": "markdown",
      "source": [
        "\n",
        "\n",
        "1.   Apps with smaller size tend to higher rating from users,while those with large sizes tend to have lower ratings.\n",
        "2.   As the price increases the installation decreases.\n",
        "3.   Apps with 4 to 5 rating have more reviews that compare to lower ratings.\n",
        "4.   Apps between 4 to 5 rating get more installed than the others.\n",
        "5.   Also, as the apps price increases the raviews and users where decreases.  \n",
        "\n",
        "\n",
        "\n",
        "\n"
      ],
      "metadata": {
        "id": "uPQ8RGwHveiV"
      }
    },
    {
      "cell_type": "markdown",
      "source": [
        "## **5. Solution to Business Objective**"
      ],
      "metadata": {
        "id": "JcMwzZxoAimU"
      }
    },
    {
      "cell_type": "markdown",
      "source": [
        "#### What do you suggest the client to achieve Business Objective ? \n",
        "To suggest how the client can achieve their business objective, it's important to know what the objective is. Without that information, I can provide some general suggestions that can apply to various business scenarios:\n",
        "\n",
        "Data Analysis: Analyze the data to gain insights into customer behavior, preferences, and patterns. This analysis can help in identifying opportunities for improvement, understanding customer sentiment, and making data-driven decisions.\n",
        "\n",
        "Customer Segmentation: Segment your customers based on various criteria such as demographics, behavior, or preferences. This segmentation can help tailor marketing campaigns, products, and services to specific customer groups, resulting in better engagement and higher conversion rates.\n",
        "\n",
        "Improve User Experience: Focus on enhancing the user experience across your products or services. This can involve improving website design, streamlining the checkout process, optimizing mobile apps, or providing better customer support. A positive user experience can lead to higher customer satisfaction and increased loyalty.\n",
        "\n",
        "Marketing Strategies: Develop effective marketing strategies based on the analysis of customer data. Utilize targeted advertising, personalized messaging, and content marketing to reach the right audience at the right time. Monitor the effectiveness of your marketing efforts and make adjustments as needed.\n",
        "\n",
        "Customer Feedback Analysis: Pay attention to customer feedback and reviews. Analyzing customer sentiments and feedback can provide valuable insights into areas of improvement, potential product/service enhancements, and identifying trends or issues that need attention.\n",
        "\n",
        "Competitive Analysis: Conduct competitive analysis to understand your position in the market and identify areas where you can differentiate yourself from competitors. This analysis can help you identify your unique selling points and opportunities for growth.\n",
        "\n",
        "Continuous Improvement: Emphasize a culture of continuous improvement by regularly monitoring key performance indicators, conducting data-driven experiments, and adapting strategies based on the insights gained. Continuously refine your processes, products, and services to meet evolving customer needs and stay ahead in the market.\n",
        "\n",
        "It's important for the client to define their specific business objective and align these suggestions accordingly. Tailoring strategies to their unique goals and industry will increase the likelihood of achieving their objectivesAnswer Here"
      ],
      "metadata": {
        "id": "8G2x9gOozGDZ"
      }
    },
    {
      "cell_type": "markdown",
      "source": [
        "# **Conclusion**"
      ],
      "metadata": {
        "id": "gCX9965dhzqZ"
      }
    },
    {
      "cell_type": "markdown",
      "source": [
        "In this project of analyzing play store applications, we have worked on several parameters which would help AlmaBetter to do well in launching their apps on the play store.\n",
        "\n",
        "In the initial phase, we focused more on the problem statements and data cleaning, in order to ensure that we give them the best results out of our analysis.\n",
        "\n",
        "Developing apps related to the least categories as they are not explored much. Like events and beauty.\n",
        "Most of the apps are Free, so focusing on free app is more important.\n",
        "Focusing more on content available for Everyone will increase the chances of getting the highest installs.\n",
        "They need to focus on updating their apps regularly, so that it will attract more users.\n",
        "They need to keep in mind that the sentiments of the user keep varying as they keep using the app, so they should focus more on users needs and features.\n",
        "Percentage of free apps = ~92%\n",
        "Percentage of apps with no age restrictions = ~82%\n",
        "Most competitive category: Family\n",
        "Category with the highest average app installs: Game\n",
        "Percentage of apps that are top rated = ~80%\n",
        "Family, Game and Tools are top three categories having 1906, 926 and 829 app count.\n",
        "Tools, Entertainment, Education, Buisness and Medical are top Genres.\n",
        "8783 Apps are having size less than 50 MB. 7749 Apps are having rating more than 4.0 including both type of apps.\n",
        "There are 20 free apps that have been installed over a billion times.\n",
        "Minecraft is the only app in the paid category with over 10M installs. This app has also produced the most revenue only from the installation fee.\n",
        "Category in which the paid apps have the highest average installation fee: Finance\n",
        "The median size of all apps in the play store is 12 MB.\n",
        "The apps whose size varies with device has the highest number average app installs.\n",
        "The apps whose size is greater than 90 MB has the highest number of average user reviews, ie, they are more popular than the rest.\n",
        "Helix Jump has the highest number of positive reviews and Angry Birds Classic has the highest number of negative reviews.\n",
        "Overall sentiment count of merged dataset in which Positive sentiment count is 64%, Negative 22% and Neutral 13%."
      ],
      "metadata": {
        "id": "Fjb1IsQkh3yE"
      }
    },
    {
      "cell_type": "markdown",
      "source": [
        "### ***Hurrah! We have successfully completed your EDA Capstone Project !!!***"
      ],
      "metadata": {
        "id": "gIfDvo9L0UH2"
      }
    }
  ]
}